{
 "cells": [
  {
   "cell_type": "code",
   "execution_count": 1,
   "metadata": {},
   "outputs": [],
   "source": [
    "# !pip install koalas"
   ]
  },
  {
   "cell_type": "code",
   "execution_count": 2,
   "metadata": {
    "application/vnd.databricks.v1+cell": {
     "inputWidgets": {},
     "nuid": "63937101-186e-4ea5-8895-bdc9cd3998cc",
     "showTitle": false,
     "title": ""
    },
    "colab": {
     "base_uri": "https://localhost:8080/",
     "height": 913
    },
    "executionInfo": {
     "elapsed": 628,
     "status": "error",
     "timestamp": 1651450189978,
     "user": {
      "displayName": "Chuwei Zhong",
      "userId": "11374017084540436764"
     },
     "user_tz": 240
    },
    "id": "OVMjzzy0U4rZ",
    "outputId": "ed6fff36-71d0-4b82-9870-0a1eb240b637"
   },
   "outputs": [
    {
     "name": "stderr",
     "output_type": "stream",
     "text": [
      "Setting default log level to \"WARN\".\n",
      "To adjust logging level use sc.setLogLevel(newLevel). For SparkR, use setLogLevel(newLevel).\n"
     ]
    }
   ],
   "source": [
    "from pyspark.sql import SparkSession\n",
    "spark = SparkSession.builder.master(\"local[*]\").getOrCreate()\n",
    "spark.sparkContext.setLogLevel(\"ERROR\")"
   ]
  },
  {
   "cell_type": "code",
   "execution_count": 3,
   "metadata": {
    "application/vnd.databricks.v1+cell": {
     "inputWidgets": {},
     "nuid": "150edb45-6b11-4aac-9f88-f1ca7b4486b0",
     "showTitle": false,
     "title": ""
    },
    "colab": {
     "base_uri": "https://localhost:8080/"
    },
    "executionInfo": {
     "elapsed": 4176,
     "status": "ok",
     "timestamp": 1651450205792,
     "user": {
      "displayName": "Chuwei Zhong",
      "userId": "11374017084540436764"
     },
     "user_tz": 240
    },
    "id": "g81S96pkMhkc",
    "outputId": "63fd81db-90c8-4ca8-d52d-12453b1230c5"
   },
   "outputs": [],
   "source": [
    "import os\n",
    "import pandas as pd\n",
    "import numpy as np\n",
    "import sys\n",
    "# import databricks.koalas as ks"
   ]
  },
  {
   "cell_type": "code",
   "execution_count": 4,
   "metadata": {
    "application/vnd.databricks.v1+cell": {
     "inputWidgets": {},
     "nuid": "bbd41cea-3b48-4e35-ba29-4ae874f601d8",
     "showTitle": false,
     "title": ""
    },
    "colab": {
     "base_uri": "https://localhost:8080/",
     "height": 937
    },
    "executionInfo": {
     "elapsed": 263,
     "status": "error",
     "timestamp": 1651450212473,
     "user": {
      "displayName": "Chuwei Zhong",
      "userId": "11374017084540436764"
     },
     "user_tz": 240
    },
    "id": "b0CK6-6CLB_Q",
    "outputId": "03a7bde3-24bd-4715-a242-73475d4f3601"
   },
   "outputs": [],
   "source": [
    "# # df=ks.read_csv(\"animals_comments.csv\")\n",
    "# # df.head(10)\n",
    "# # df.columns = ['creator_name','userid', 'comment']\n",
    "# df = pd.read_csv(\"animals_comments.csv\")\n",
    "# df.columns = [\"creator_name\",\"userid\",\"comment\"]\n",
    "# df.head()\n",
    "# df.to_csv(\"animals_comments.csv\")"
   ]
  },
  {
   "cell_type": "code",
   "execution_count": 5,
   "metadata": {
    "application/vnd.databricks.v1+cell": {
     "inputWidgets": {},
     "nuid": "bc2eddad-4930-4a58-9724-c339d9a94ef9",
     "showTitle": false,
     "title": ""
    },
    "colab": {
     "base_uri": "https://localhost:8080/",
     "height": 919
    },
    "executionInfo": {
     "elapsed": 857,
     "status": "error",
     "timestamp": 1651450216328,
     "user": {
      "displayName": "Chuwei Zhong",
      "userId": "11374017084540436764"
     },
     "user_tz": 240
    },
    "id": "9yjcId4AXtB7",
    "outputId": "bb114335-389d-4e33-f373-995e93614ada"
   },
   "outputs": [],
   "source": [
    "# df.shape"
   ]
  },
  {
   "cell_type": "code",
   "execution_count": 6,
   "metadata": {},
   "outputs": [],
   "source": [
    "# sys.setrecursionlimit(300000)"
   ]
  },
  {
   "cell_type": "code",
   "execution_count": 7,
   "metadata": {},
   "outputs": [
    {
     "name": "stdout",
     "output_type": "stream",
     "text": [
      "+---+--------------------+------+-------------------------------------+\n",
      "|_c0|        creator_name|userid|                              comment|\n",
      "+---+--------------------+------+-------------------------------------+\n",
      "|  0|        Doug The Pug|  87.0|                 I shared this to ...|\n",
      "|  1|        Doug The Pug|  87.0|                   Super cute  😀🐕🐶|\n",
      "|  2|         bulletproof| 530.0|                 stop saying get e...|\n",
      "|  3|       Meu Zoológico| 670.0|                 Tenho uma jiboia ...|\n",
      "|  4|              ojatro|1031.0|                 I wanna see what ...|\n",
      "|  5|     Tingle Triggers|1212.0|                 Well shit now Im ...|\n",
      "|  6|Hope For Paws - O...|1806.0|                 when I saw the en...|\n",
      "|  7|Hope For Paws - O...|2036.0|                 Holy crap. That i...|\n",
      "|  8|          Life Story|2637.0|武器はクエストで貰えるんじゃないん...|\n",
      "|  9|       Brian Barczyk|2698.0|                 Call the teddy Larry|\n",
      "+---+--------------------+------+-------------------------------------+\n",
      "only showing top 10 rows\n",
      "\n",
      "root\n",
      " |-- _c0: string (nullable = true)\n",
      " |-- creator_name: string (nullable = true)\n",
      " |-- userid: string (nullable = true)\n",
      " |-- comment: string (nullable = true)\n",
      "\n"
     ]
    }
   ],
   "source": [
    "df_clean = spark.read.csv(\"animals_comments.csv\",header=True)\n",
    "df_clean.show(10)\n",
    "df_clean.printSchema()"
   ]
  },
  {
   "cell_type": "code",
   "execution_count": 8,
   "metadata": {},
   "outputs": [
    {
     "data": {
      "text/plain": [
       "5820036"
      ]
     },
     "execution_count": 8,
     "metadata": {},
     "output_type": "execute_result"
    }
   ],
   "source": [
    "df_clean.count() "
   ]
  },
  {
   "cell_type": "markdown",
   "metadata": {
    "application/vnd.databricks.v1+cell": {
     "inputWidgets": {},
     "nuid": "1253fafc-65b2-401f-9736-5dcf9586f263",
     "showTitle": false,
     "title": ""
    },
    "id": "W2zegbivOwFx"
   },
   "source": [
    "# Label the data"
   ]
  },
  {
   "cell_type": "code",
   "execution_count": 9,
   "metadata": {
    "application/vnd.databricks.v1+cell": {
     "inputWidgets": {},
     "nuid": "61512c78-ccd4-4925-969b-7c192814a982",
     "showTitle": false,
     "title": ""
    },
    "executionInfo": {
     "elapsed": 471,
     "status": "aborted",
     "timestamp": 1651450216300,
     "user": {
      "displayName": "Chuwei Zhong",
      "userId": "11374017084540436764"
     },
     "user_tz": 240
    },
    "id": "m8vOzE4TOC8B"
   },
   "outputs": [],
   "source": [
    "# # find user with preference of dog and cat\n",
    "# searchfor = ['my dog', 'I have a dog', 'my dogs', 'I have dog', 'my cat', 'my cats', 'I have a cat', 'I have cat', 'my puppy', 'my puppies', 'my kitty', 'my kitties', 'I have a kitty', 'I have kitties', 'I have a puppy', 'I have puppies']\n",
    "# df['dog_cat'] = df['comment'].str.contains('|'.join(searchfor))\n",
    "# df['no_pet'] = ~df[\"comment\"].str.contains('my|have')\n",
    "                  \n",
    "# df.head(10)\n",
    "# # print(df.shape)"
   ]
  },
  {
   "cell_type": "code",
   "execution_count": 10,
   "metadata": {
    "application/vnd.databricks.v1+cell": {
     "inputWidgets": {},
     "nuid": "aea811ee-7c62-4646-88e7-d2b5937e9081",
     "showTitle": false,
     "title": ""
    },
    "executionInfo": {
     "elapsed": 471,
     "status": "aborted",
     "timestamp": 1651450216301,
     "user": {
      "displayName": "Chuwei Zhong",
      "userId": "11374017084540436764"
     },
     "user_tz": 240
    },
    "id": "QtGBnbq8wNGw"
   },
   "outputs": [],
   "source": [
    "# df['comment'] = df['comment'].astype(str).apply(lambda x: x.encode('ascii', 'ignore').decode('ascii'))"
   ]
  },
  {
   "cell_type": "code",
   "execution_count": 11,
   "metadata": {
    "application/vnd.databricks.v1+cell": {
     "inputWidgets": {},
     "nuid": "a3527bab-3b2c-4213-ae25-ad34cde9a839",
     "showTitle": false,
     "title": ""
    },
    "executionInfo": {
     "elapsed": 472,
     "status": "aborted",
     "timestamp": 1651450216302,
     "user": {
      "displayName": "Chuwei Zhong",
      "userId": "11374017084540436764"
     },
     "user_tz": 240
    },
    "id": "QPRUrRo9ZODW"
   },
   "outputs": [],
   "source": [
    "# df.head(10)"
   ]
  },
  {
   "cell_type": "code",
   "execution_count": 12,
   "metadata": {
    "application/vnd.databricks.v1+cell": {
     "inputWidgets": {},
     "nuid": "aee0dc88-5229-4c2b-80e7-cb770b5c8f82",
     "showTitle": false,
     "title": ""
    },
    "executionInfo": {
     "elapsed": 473,
     "status": "aborted",
     "timestamp": 1651450216303,
     "user": {
      "displayName": "Chuwei Zhong",
      "userId": "11374017084540436764"
     },
     "user_tz": 240
    },
    "id": "ngQByvsf07ZB"
   },
   "outputs": [],
   "source": [
    "# df[\"bool_Comments\"] = df['comment'].str.contains(pat = '\\w')\n",
    "# df.head(10)"
   ]
  },
  {
   "cell_type": "code",
   "execution_count": 13,
   "metadata": {
    "application/vnd.databricks.v1+cell": {
     "inputWidgets": {},
     "nuid": "f3ee997b-9e0d-40b0-8610-d154f0baba79",
     "showTitle": false,
     "title": ""
    },
    "executionInfo": {
     "elapsed": 474,
     "status": "aborted",
     "timestamp": 1651450216304,
     "user": {
      "displayName": "Chuwei Zhong",
      "userId": "11374017084540436764"
     },
     "user_tz": 240
    },
    "id": "7d1CC-dZRCay"
   },
   "outputs": [],
   "source": [
    "# df = df.loc[df[\"bool_Comments\"]]\n",
    "# df = df.drop(\"bool_Comments\", axis = 1)"
   ]
  },
  {
   "cell_type": "code",
   "execution_count": 14,
   "metadata": {
    "application/vnd.databricks.v1+cell": {
     "inputWidgets": {},
     "nuid": "464648ae-8965-4288-a543-bd6c241fdf04",
     "showTitle": false,
     "title": ""
    },
    "executionInfo": {
     "elapsed": 475,
     "status": "aborted",
     "timestamp": 1651450216305,
     "user": {
      "displayName": "Chuwei Zhong",
      "userId": "11374017084540436764"
     },
     "user_tz": 240
    },
    "id": "suIyL91EjUYa"
   },
   "outputs": [],
   "source": [
    "# spark_df = df.to_spark()"
   ]
  },
  {
   "cell_type": "code",
   "execution_count": 15,
   "metadata": {},
   "outputs": [
    {
     "name": "stdout",
     "output_type": "stream",
     "text": [
      "+---+--------------------+------+-------------------------------------+-------+------+\n",
      "|_c0|        creator_name|userid|                              comment|dog_cat|no_pet|\n",
      "+---+--------------------+------+-------------------------------------+-------+------+\n",
      "|  0|        Doug The Pug|  87.0|                 I shared this to ...|      0|     0|\n",
      "|  1|        Doug The Pug|  87.0|                   Super cute  😀🐕🐶|      0|     1|\n",
      "|  2|         bulletproof| 530.0|                 stop saying get e...|      0|     0|\n",
      "|  3|       Meu Zoológico| 670.0|                 Tenho uma jiboia ...|      0|     1|\n",
      "|  4|              ojatro|1031.0|                 I wanna see what ...|      0|     1|\n",
      "|  5|     Tingle Triggers|1212.0|                 Well shit now Im ...|      0|     1|\n",
      "|  6|Hope For Paws - O...|1806.0|                 when I saw the en...|      0|     1|\n",
      "|  7|Hope For Paws - O...|2036.0|                 Holy crap. That i...|      0|     1|\n",
      "|  8|          Life Story|2637.0|武器はクエストで貰えるんじゃないん...|      0|     1|\n",
      "|  9|       Brian Barczyk|2698.0|                 Call the teddy Larry|      0|     1|\n",
      "+---+--------------------+------+-------------------------------------+-------+------+\n",
      "only showing top 10 rows\n",
      "\n"
     ]
    }
   ],
   "source": [
    "# find user with preference of dog and cat\n",
    "from pyspark.sql.functions import when\n",
    "from pyspark.sql.functions import col\n",
    "\n",
    "# you can user your ways to extract the label\n",
    "#'my dog', 'I have a dog', 'my dogs', 'I have dog', 'my cat', 'my cats', \n",
    "#'I have a cat', 'I have cat', 'my puppy', 'my puppies', 'my kitty', 'my kitties', \n",
    "#'I have a kitty', 'I have kitties', 'I have a puppy', 'I have puppies'\n",
    "\n",
    "df_clean = df_clean.withColumn(\"dog_cat\", \\\n",
    "                           (when(col(\"comment\").like(\"%my dog%\"), 1) \\\n",
    "                           .when(col(\"comment\").like(\"%I have a dog%\"), 1) \\\n",
    "                           .when(col(\"comment\").like(\"%I have dog%\"), 1) \\\n",
    "                           .when(col(\"comment\").like(\"%my cat%\"), 1) \\\n",
    "                           .when(col(\"comment\").like(\"%I have a cat%\"), 1) \\\n",
    "                           .when(col(\"comment\").like(\"%I have cat%\"), 1) \\\n",
    "                           .when(col(\"comment\").like(\"%my puppy%\"), 1) \\\n",
    "                           .when(col(\"comment\").like(\"%my puppies%\"), 1) \\\n",
    "                           .when(col(\"comment\").like(\"%my kitty%\"), 1) \\\n",
    "                           .when(col(\"comment\").like(\"%my kitties%\"), 1) \\\n",
    "                           .when(col(\"comment\").like(\"%I have a kitty%\"), 1) \\\n",
    "                           .when(col(\"comment\").like(\"%I have kitties%\"), 1) \\\n",
    "                           .when(col(\"comment\").like(\"%I have a puppy%\"), 1) \\\n",
    "                           .when(col(\"comment\").like(\"%I have puppies%\"), 1) \\\n",
    "                           .when(col(\"comment\").like(\"%my pussy%\"), 1) \\\n",
    "                           .otherwise(0)))\n",
    "df_clean = df_clean.withColumn(\"no_pet\", \\\n",
    "                           (when(col(\"comment\").like(\"%my%\"), 0) \\\n",
    "                           .when(col(\"comment\").like(\"%have%\"), 0) \\\n",
    "                           .otherwise(1)))\n",
    "df_clean.show(10)"
   ]
  },
  {
   "cell_type": "code",
   "execution_count": 16,
   "metadata": {
    "application/vnd.databricks.v1+cell": {
     "inputWidgets": {},
     "nuid": "2baf1827-4a41-4ca4-9801-593d6c51120e",
     "showTitle": false,
     "title": ""
    },
    "executionInfo": {
     "elapsed": 475,
     "status": "aborted",
     "timestamp": 1651450216306,
     "user": {
      "displayName": "Chuwei Zhong",
      "userId": "11374017084540436764"
     },
     "user_tz": 240
    },
    "id": "IxKnOLw1tzc1"
   },
   "outputs": [],
   "source": [
    "from pyspark.sql.functions import rand \n",
    "\n",
    "df_clean.orderBy(rand(seed=0)).createOrReplaceTempView(\"table1\")\n",
    "df_clean = spark.sql(\"select * from table1 limit 10000\")"
   ]
  },
  {
   "cell_type": "code",
   "execution_count": 17,
   "metadata": {},
   "outputs": [],
   "source": [
    "# df_clean = df_clean.repartition(100)\n",
    "# df_clean.rdd.getNumPartitions()"
   ]
  },
  {
   "cell_type": "code",
   "execution_count": 18,
   "metadata": {
    "application/vnd.databricks.v1+cell": {
     "inputWidgets": {},
     "nuid": "a5ff549e-5af7-4d0d-82b5-143ee98f8d2d",
     "showTitle": false,
     "title": ""
    },
    "executionInfo": {
     "elapsed": 475,
     "status": "aborted",
     "timestamp": 1651450216306,
     "user": {
      "displayName": "Chuwei Zhong",
      "userId": "11374017084540436764"
     },
     "user_tz": 240
    },
    "id": "cYz6LEEZzKik"
   },
   "outputs": [],
   "source": [
    "from pyspark.ml.feature import StopWordsRemover\n",
    "\n",
    "# Define a list of stop words or use default list\n",
    "remover = StopWordsRemover()\n",
    "stopwords = remover.getStopWords() \n",
    "\n",
    "# Display some of the stop words\n",
    "stopwords[:10]\n",
    "Out[196]: ['i', 'me', 'my', 'myself', 'we', 'our', 'ours', 'ourselves', 'you', 'your']"
   ]
  },
  {
   "cell_type": "code",
   "execution_count": 19,
   "metadata": {
    "application/vnd.databricks.v1+cell": {
     "inputWidgets": {},
     "nuid": "6efc0751-36f2-429c-b2c6-2736a60145ab",
     "showTitle": false,
     "title": ""
    },
    "executionInfo": {
     "elapsed": 476,
     "status": "aborted",
     "timestamp": 1651450216307,
     "user": {
      "displayName": "Chuwei Zhong",
      "userId": "11374017084540436764"
     },
     "user_tz": 240
    },
    "id": "t5vphCaOT8B-"
   },
   "outputs": [
    {
     "name": "stdout",
     "output_type": "stream",
     "text": [
      "+-------+-----------------------+---------+--------------------+-------+------+--------------------+\n",
      "|    _c0|           creator_name|   userid|             comment|dog_cat|no_pet|                text|\n",
      "+-------+-----------------------+---------+--------------------+-------+------+--------------------+\n",
      "|5172407|     Taylor Nicole Dean|1017798.0|i find it funny c...|      0|     0|[i, find, it, fun...|\n",
      "|1139499|         LightningLpsTV|2383838.0|I dare Dakota to ...|      0|     1|[i, dare, dakota,...|\n",
      "|3556124|   Cincinnati Zoo & ...|2145416.0|He is so gentle w...|      0|     1|[he, is, so, gent...|\n",
      "|  49138|        Einstein Parrot| 585165.0|Einstein youre so...|      0|     1|[einstein, youre,...|\n",
      "|2008117|          Brian Barczyk|1642854.0|Brian is my favou...|      0|     0|[brian, is, my, f...|\n",
      "|4433171|   Hope For Paws - O...|2201609.0|I would Of Adopte...|      0|     0|[i, would, of, ad...|\n",
      "|1800552|               The Dodo|2299570.0|    I started crying|      0|     1|[i, started, crying]|\n",
      "| 553702|             The Fatman| 597566.0|something to thin...|      0|     1|[something, to, t...|\n",
      "|3728969|꼬부기아빠 My Pet Diary|1357611.0|               *윙?*|      0|     1|                  []|\n",
      "| 163207|              GoHerping|1467709.0|Red eared sliders...|      0|     1|[red, eared, slid...|\n",
      "+-------+-----------------------+---------+--------------------+-------+------+--------------------+\n",
      "only showing top 10 rows\n",
      "\n"
     ]
    }
   ],
   "source": [
    "# data preprocessing \n",
    "from pyspark.ml.feature import RegexTokenizer\n",
    "\n",
    "regexTokenizer = RegexTokenizer(inputCol=\"comment\", outputCol=\"text\", pattern=\"\\\\W\")\n",
    "df_clean = regexTokenizer.transform(df_clean)\n",
    "df_clean.show(10)"
   ]
  },
  {
   "cell_type": "code",
   "execution_count": 20,
   "metadata": {
    "application/vnd.databricks.v1+cell": {
     "inputWidgets": {},
     "nuid": "a4cd9cd7-1240-4a3d-a1ca-5f002f2ccefb",
     "showTitle": false,
     "title": ""
    },
    "executionInfo": {
     "elapsed": 477,
     "status": "aborted",
     "timestamp": 1651450216308,
     "user": {
      "displayName": "Chuwei Zhong",
      "userId": "11374017084540436764"
     },
     "user_tz": 240
    },
    "id": "MgueuwzcEveL"
   },
   "outputs": [],
   "source": [
    "# # remove empty text vector\n",
    "# import pyspark.sql.functions as F\n",
    "# df_clean = df_clean.withColumn(\"size\", F.size(F.col('text')))\n",
    "# df_clean = df_clean.select(['creator_name', 'userid', 'comment', 'text', 'dog_cat','no_pet']).where(df_clean.size != 0)\n",
    "# df_clean.show(10)"
   ]
  },
  {
   "cell_type": "code",
   "execution_count": 21,
   "metadata": {
    "application/vnd.databricks.v1+cell": {
     "inputWidgets": {},
     "nuid": "91fa9063-40ba-4d7f-9433-ff1c044365ca",
     "showTitle": false,
     "title": ""
    },
    "executionInfo": {
     "elapsed": 477,
     "status": "aborted",
     "timestamp": 1651450216309,
     "user": {
      "displayName": "Chuwei Zhong",
      "userId": "11374017084540436764"
     },
     "user_tz": 240
    },
    "id": "n4Ufna67zZ2q"
   },
   "outputs": [
    {
     "name": "stdout",
     "output_type": "stream",
     "text": [
      "+-------+-----------------------+---------+--------------------+-------+------+--------------------+--------------------+\n",
      "|    _c0|           creator_name|   userid|             comment|dog_cat|no_pet|                text|     vector_no_stopw|\n",
      "+-------+-----------------------+---------+--------------------+-------+------+--------------------+--------------------+\n",
      "|5172407|     Taylor Nicole Dean|1017798.0|i find it funny c...|      0|     0|[i, find, it, fun...|[find, funny, cau...|\n",
      "|1139499|         LightningLpsTV|2383838.0|I dare Dakota to ...|      0|     1|[i, dare, dakota,...|[dare, dakota, pr...|\n",
      "|3556124|   Cincinnati Zoo & ...|2145416.0|He is so gentle w...|      0|     1|[he, is, so, gent...|[gentle, enormous...|\n",
      "|  49138|        Einstein Parrot| 585165.0|Einstein youre so...|      0|     1|[einstein, youre,...|[einstein, youre,...|\n",
      "|2008117|          Brian Barczyk|1642854.0|Brian is my favou...|      0|     0|[brian, is, my, f...|[brian, favourite...|\n",
      "|4433171|   Hope For Paws - O...|2201609.0|I would Of Adopte...|      0|     0|[i, would, of, ad...|[adopted, house, ...|\n",
      "|1800552|               The Dodo|2299570.0|    I started crying|      0|     1|[i, started, crying]|   [started, crying]|\n",
      "| 553702|             The Fatman| 597566.0|something to thin...|      0|     1|[something, to, t...|[something, think...|\n",
      "|3728969|꼬부기아빠 My Pet Diary|1357611.0|               *윙?*|      0|     1|                  []|                  []|\n",
      "| 163207|              GoHerping|1467709.0|Red eared sliders...|      0|     1|[red, eared, slid...|[red, eared, slid...|\n",
      "+-------+-----------------------+---------+--------------------+-------+------+--------------------+--------------------+\n",
      "only showing top 10 rows\n",
      "\n"
     ]
    }
   ],
   "source": [
    "remover.setInputCol(\"text\")\n",
    "remover.setOutputCol(\"vector_no_stopw\")\n",
    "df_clean = remover.transform(df_clean)\n",
    "df_clean.show(10) "
   ]
  },
  {
   "cell_type": "code",
   "execution_count": 22,
   "metadata": {
    "application/vnd.databricks.v1+cell": {
     "inputWidgets": {},
     "nuid": "2f7dcf4f-90ab-4216-bbce-d6a474dffdc4",
     "showTitle": false,
     "title": ""
    },
    "executionInfo": {
     "elapsed": 477,
     "status": "aborted",
     "timestamp": 1651450216309,
     "user": {
      "displayName": "Chuwei Zhong",
      "userId": "11374017084540436764"
     },
     "user_tz": 240
    },
    "id": "4Aksvy5xz-xQ"
   },
   "outputs": [
    {
     "name": "stdout",
     "output_type": "stream",
     "text": [
      "+-------+-----------------------+---------+--------------------+-------+------+--------------------+--------------------+--------------------+\n",
      "|    _c0|           creator_name|   userid|             comment|dog_cat|no_pet|                text|     vector_no_stopw|      vector_stemmed|\n",
      "+-------+-----------------------+---------+--------------------+-------+------+--------------------+--------------------+--------------------+\n",
      "|5172407|     Taylor Nicole Dean|1017798.0|i find it funny c...|      0|     0|[i, find, it, fun...|[find, funny, cau...|[find, funni, cau...|\n",
      "|1139499|         LightningLpsTV|2383838.0|I dare Dakota to ...|      0|     1|[i, dare, dakota,...|[dare, dakota, pr...|[dare, dakota, pr...|\n",
      "|3556124|   Cincinnati Zoo & ...|2145416.0|He is so gentle w...|      0|     1|[he, is, so, gent...|[gentle, enormous...|[gentl, enorm, sn...|\n",
      "|  49138|        Einstein Parrot| 585165.0|Einstein youre so...|      0|     1|[einstein, youre,...|[einstein, youre,...|[einstein, your, ...|\n",
      "|2008117|          Brian Barczyk|1642854.0|Brian is my favou...|      0|     0|[brian, is, my, f...|[brian, favourite...|[brian, favourit,...|\n",
      "|4433171|   Hope For Paws - O...|2201609.0|I would Of Adopte...|      0|     0|[i, would, of, ad...|[adopted, house, ...|[adopt, hous, was...|\n",
      "|1800552|               The Dodo|2299570.0|    I started crying|      0|     1|[i, started, crying]|   [started, crying]|        [start, cri]|\n",
      "| 553702|             The Fatman| 597566.0|something to thin...|      0|     1|[something, to, t...|[something, think...|[someth, think, i...|\n",
      "|3728969|꼬부기아빠 My Pet Diary|1357611.0|               *윙?*|      0|     1|                  []|                  []|                  []|\n",
      "| 163207|              GoHerping|1467709.0|Red eared sliders...|      0|     1|[red, eared, slid...|[red, eared, slid...|[red, ear, slider...|\n",
      "+-------+-----------------------+---------+--------------------+-------+------+--------------------+--------------------+--------------------+\n",
      "only showing top 10 rows\n",
      "\n"
     ]
    }
   ],
   "source": [
    "from nltk.stem.porter import *\n",
    "from pyspark.sql.functions import udf\n",
    "\n",
    "# Instantiate stemmer object\n",
    "stemmer = PorterStemmer()\n",
    "\n",
    "# Create stemmer python function\n",
    "def stem(in_vec):\n",
    "    out_vec = []\n",
    "    for t in in_vec:\n",
    "        t_stem = stemmer.stem(t)\n",
    "        if len(t_stem) > 2:\n",
    "            out_vec.append(t_stem)       \n",
    "    return out_vec\n",
    "\n",
    "# Create user defined function for stemming with return type Array<String>\n",
    "from pyspark.sql.types import *\n",
    "stemmer_udf = udf(lambda x: stem(x), ArrayType(StringType()))\n",
    "\n",
    "# Create new column with vectors containing the stemmed tokens \n",
    "df_clean = df_clean.withColumn(\"vector_stemmed\", stemmer_udf(\"vector_no_stopw\"))\n",
    "\n",
    "df_clean.show(10)"
   ]
  },
  {
   "cell_type": "code",
   "execution_count": 23,
   "metadata": {
    "application/vnd.databricks.v1+cell": {
     "inputWidgets": {},
     "nuid": "c21f0709-1bf4-4aeb-9456-c5a46179fb85",
     "showTitle": false,
     "title": ""
    },
    "executionInfo": {
     "elapsed": 478,
     "status": "aborted",
     "timestamp": 1651450216310,
     "user": {
      "displayName": "Chuwei Zhong",
      "userId": "11374017084540436764"
     },
     "user_tz": 240
    },
    "id": "tn3aFjRwEveO"
   },
   "outputs": [
    {
     "name": "stdout",
     "output_type": "stream",
     "text": [
      "+-------+-----------------------+---------+--------------------+-------+------+--------------------+--------------------+--------------------+--------------------+\n",
      "|    _c0|           creator_name|   userid|             comment|dog_cat|no_pet|                text|     vector_no_stopw|      vector_stemmed|          wordVector|\n",
      "+-------+-----------------------+---------+--------------------+-------+------+--------------------+--------------------+--------------------+--------------------+\n",
      "|5172407|     Taylor Nicole Dean|1017798.0|i find it funny c...|      0|     0|[i, find, it, fun...|[find, funny, cau...|[find, funni, cau...|[0.06860379758290...|\n",
      "|1139499|         LightningLpsTV|2383838.0|I dare Dakota to ...|      0|     1|[i, dare, dakota,...|[dare, dakota, pr...|[dare, dakota, pr...|[0.03010298712179...|\n",
      "|3556124|   Cincinnati Zoo & ...|2145416.0|He is so gentle w...|      0|     1|[he, is, so, gent...|[gentle, enormous...|[gentl, enorm, sn...|[0.08539565093815...|\n",
      "|  49138|        Einstein Parrot| 585165.0|Einstein youre so...|      0|     1|[einstein, youre,...|[einstein, youre,...|[einstein, your, ...|[0.10004558463004...|\n",
      "|2008117|          Brian Barczyk|1642854.0|Brian is my favou...|      0|     0|[brian, is, my, f...|[brian, favourite...|[brian, favourit,...|[0.10420661052579...|\n",
      "|4433171|   Hope For Paws - O...|2201609.0|I would Of Adopte...|      0|     0|[i, would, of, ad...|[adopted, house, ...|[adopt, hous, was...|[0.11482456600956...|\n",
      "|1800552|               The Dodo|2299570.0|    I started crying|      0|     1|[i, started, crying]|   [started, crying]|        [start, cri]|[0.17229351401329...|\n",
      "| 553702|             The Fatman| 597566.0|something to thin...|      0|     1|[something, to, t...|[something, think...|[someth, think, i...|[0.10687595109144...|\n",
      "|3728969|꼬부기아빠 My Pet Diary|1357611.0|               *윙?*|      0|     1|                  []|                  []|                  []|          (20,[],[])|\n",
      "| 163207|              GoHerping|1467709.0|Red eared sliders...|      0|     1|[red, eared, slid...|[red, eared, slid...|[red, ear, slider...|[0.10254178746407...|\n",
      "+-------+-----------------------+---------+--------------------+-------+------+--------------------+--------------------+--------------------+--------------------+\n",
      "only showing top 10 rows\n",
      "\n"
     ]
    }
   ],
   "source": [
    "# use word2vec get text vector feature.\n",
    "from pyspark.ml.feature import Word2Vec\n",
    "# Learn a mapping from words to Vectors. (choose higher vectorSize here)\n",
    "#word2Vec = Word2Vec(vectorSize=20, minCount=1, inputCol=\"text\", outputCol=\"wordVector\")\n",
    "word2Vec = Word2Vec(vectorSize=20, minCount=1, inputCol=\"vector_stemmed\", outputCol=\"wordVector\")\n",
    "model = word2Vec.fit(df_clean)\n",
    "\n",
    "df_model = model.transform(df_clean)\n",
    "df_model.show(10)"
   ]
  },
  {
   "cell_type": "code",
   "execution_count": 24,
   "metadata": {
    "application/vnd.databricks.v1+cell": {
     "inputWidgets": {},
     "nuid": "0880930f-9fc5-4a35-aaf6-68772c7a8407",
     "showTitle": false,
     "title": ""
    },
    "executionInfo": {
     "elapsed": 478,
     "status": "aborted",
     "timestamp": 1651450216310,
     "user": {
      "displayName": "Chuwei Zhong",
      "userId": "11374017084540436764"
     },
     "user_tz": 240
    },
    "id": "5WUyKO10EveP"
   },
   "outputs": [
    {
     "name": "stdout",
     "output_type": "stream",
     "text": [
      "Number of confirmed user who own dogs or cats:  58\n",
      "Number of confirmed user who don't have pet's:  8497\n"
     ]
    }
   ],
   "source": [
    "import pyspark.sql.functions as F\n",
    "df_pets = df_model.filter(F.col('dog_cat') == True) \n",
    "df_no_pets = df_model.filter(F.col('no_pet') ==  True)\n",
    "print(\"Number of confirmed user who own dogs or cats: \", df_pets.count())\n",
    "print(\"Number of confirmed user who don't have pet's: \", df_no_pets.count())"
   ]
  },
  {
   "cell_type": "code",
   "execution_count": 25,
   "metadata": {
    "application/vnd.databricks.v1+cell": {
     "inputWidgets": {},
     "nuid": "9b9ce0ce-ee5f-4c79-bf1c-deda0bb02a42",
     "showTitle": false,
     "title": ""
    },
    "executionInfo": {
     "elapsed": 479,
     "status": "aborted",
     "timestamp": 1651450216311,
     "user": {
      "displayName": "Chuwei Zhong",
      "userId": "11374017084540436764"
     },
     "user_tz": 240
    },
    "id": "BrPhmz2OEveP"
   },
   "outputs": [],
   "source": [
    "from pyspark.sql.functions import rand \n",
    "df_no_pets.orderBy(rand()).createOrReplaceTempView(\"table\")\n",
    "\n",
    "Num_Pos_Label = df_model.filter(F.col('dog_cat') == True).count() \n",
    "Num_Neg_Label = df_model.filter(F.col('no_pet') ==  True).count()\n",
    "\n",
    "#pass variable to sql\n",
    "df_no_pets_down = spark.sql(\"select * from table where limit {}\".format(Num_Pos_Label*2))"
   ]
  },
  {
   "cell_type": "code",
   "execution_count": 26,
   "metadata": {
    "application/vnd.databricks.v1+cell": {
     "inputWidgets": {},
     "nuid": "19cebc02-60ce-4027-86f2-63062915f7f3",
     "showTitle": false,
     "title": ""
    },
    "executionInfo": {
     "elapsed": 478,
     "status": "aborted",
     "timestamp": 1651450216311,
     "user": {
      "displayName": "Chuwei Zhong",
      "userId": "11374017084540436764"
     },
     "user_tz": 240
    },
    "id": "NKu1P5nEEveQ"
   },
   "outputs": [
    {
     "name": "stdout",
     "output_type": "stream",
     "text": [
      "Now after balancing the lables, we have \n",
      "Positive label:  58\n",
      "Negtive label:  116\n"
     ]
    }
   ],
   "source": [
    "print('Now after balancing the lables, we have ')   \n",
    "print('Positive label: ', Num_Pos_Label)\n",
    "print('Negtive label: ', df_no_pets_down.count())"
   ]
  },
  {
   "cell_type": "code",
   "execution_count": 27,
   "metadata": {
    "application/vnd.databricks.v1+cell": {
     "inputWidgets": {},
     "nuid": "83e148ac-5ddc-4c9a-a04d-e0bd5b7c0937",
     "showTitle": false,
     "title": ""
    },
    "executionInfo": {
     "elapsed": 479,
     "status": "aborted",
     "timestamp": 1651450216312,
     "user": {
      "displayName": "Chuwei Zhong",
      "userId": "11374017084540436764"
     },
     "user_tz": 240
    },
    "id": "wLYtcW74EveQ"
   },
   "outputs": [
    {
     "name": "stdout",
     "output_type": "stream",
     "text": [
      "+-------+--------------------+\n",
      "|dog_cat|          wordVector|\n",
      "+-------+--------------------+\n",
      "|      1|[0.10949270493195...|\n",
      "|      1|[0.09218943525444...|\n",
      "|      1|[0.13476687297224...|\n",
      "|      1|[0.06782205868512...|\n",
      "|      1|[0.16183927531043...|\n",
      "|      1|[0.10738242267897...|\n",
      "|      1|[0.05363546032458...|\n",
      "|      1|[0.09038627418604...|\n",
      "|      1|[0.15965104765362...|\n",
      "|      1|[0.14298852201965...|\n",
      "+-------+--------------------+\n",
      "only showing top 10 rows\n",
      "\n"
     ]
    }
   ],
   "source": [
    "def get_label(df_pets,df_no_pets_down):\n",
    "  df_labeled = df_pets.select('dog_cat','wordVector').union(df_no_pets_down.select('dog_cat','wordVector'))\n",
    "  return df_labeled\n",
    "\n",
    "df_labeled = get_label(df_pets,df_no_pets_down)\n",
    "df_labeled.show(10)"
   ]
  },
  {
   "cell_type": "code",
   "execution_count": 28,
   "metadata": {
    "application/vnd.databricks.v1+cell": {
     "inputWidgets": {},
     "nuid": "b0cff741-3753-4015-9a20-69992eee6756",
     "showTitle": false,
     "title": ""
    },
    "executionInfo": {
     "elapsed": 480,
     "status": "aborted",
     "timestamp": 1651450216313,
     "user": {
      "displayName": "Chuwei Zhong",
      "userId": "11374017084540436764"
     },
     "user_tz": 240
    },
    "id": "ymcAv0sgEveQ"
   },
   "outputs": [
    {
     "name": "stdout",
     "output_type": "stream",
     "text": [
      "+-------+--------------------+-----+\n",
      "|dog_cat|          wordVector|label|\n",
      "+-------+--------------------+-----+\n",
      "|      1|[0.10949270493195...|    1|\n",
      "|      1|[0.09218943525444...|    1|\n",
      "|      1|[0.13476687297224...|    1|\n",
      "|      1|[0.06782205868512...|    1|\n",
      "|      1|[0.16183927531043...|    1|\n",
      "|      1|[0.10738242267897...|    1|\n",
      "|      1|[0.05363546032458...|    1|\n",
      "|      1|[0.09038627418604...|    1|\n",
      "|      1|[0.15965104765362...|    1|\n",
      "|      1|[0.14298852201965...|    1|\n",
      "+-------+--------------------+-----+\n",
      "only showing top 10 rows\n",
      "\n"
     ]
    }
   ],
   "source": [
    "#convert Boolean value to 1 and 0's\n",
    "from pyspark.sql.functions import col, udf\n",
    "from pyspark.sql.types import IntegerType\n",
    "\n",
    "def multiple(x):\n",
    "  return int(x*1)\n",
    "udf_boolToInt= udf(lambda z: multiple(z),IntegerType())\n",
    "df_labeled = df_labeled.withColumn('label',udf_boolToInt('dog_cat'))\n",
    "df_labeled.show(10)"
   ]
  },
  {
   "cell_type": "markdown",
   "metadata": {
    "application/vnd.databricks.v1+cell": {
     "inputWidgets": {},
     "nuid": "68b79e2c-ba0a-4808-88df-28babbff58ed",
     "showTitle": false,
     "title": ""
    },
    "id": "mZNwDM-6EveR"
   },
   "source": [
    "### Logistic Regression Model"
   ]
  },
  {
   "cell_type": "code",
   "execution_count": 29,
   "metadata": {
    "application/vnd.databricks.v1+cell": {
     "inputWidgets": {},
     "nuid": "3519b0f8-31b7-4262-8086-cf84e21a13d5",
     "showTitle": false,
     "title": ""
    },
    "executionInfo": {
     "elapsed": 34,
     "status": "aborted",
     "timestamp": 1651450216314,
     "user": {
      "displayName": "Chuwei Zhong",
      "userId": "11374017084540436764"
     },
     "user_tz": 240
    },
    "id": "g0vVpNlzEveR"
   },
   "outputs": [
    {
     "name": "stdout",
     "output_type": "stream",
     "text": [
      "+-------+--------------------+-----+--------------------+--------------------+----------+\n",
      "|dog_cat|          wordVector|label|       rawPrediction|         probability|prediction|\n",
      "+-------+--------------------+-----+--------------------+--------------------+----------+\n",
      "|      1|[0.06762789714742...|    1|[0.20780167683047...|[0.55176428135951...|       0.0|\n",
      "|      1|[0.09527552167751...|    1|[-0.5741068571386...|[0.36028973006124...|       1.0|\n",
      "|      1|[0.09557888098061...|    1|[-0.1139110618587...|[0.47155298794747...|       1.0|\n",
      "|      1|[0.09989692441498...|    1|[-0.0680936924960...|[0.48298315160859...|       1.0|\n",
      "|      1|[0.10875580646097...|    1|[0.75854971286089...|[0.68103877797142...|       0.0|\n",
      "|      1|[0.11886261184425...|    1|[0.39666429701445...|[0.59788595845459...|       0.0|\n",
      "|      1|[0.12836580940056...|    1|[0.45631673756561...|[0.61214004102996...|       0.0|\n",
      "|      0|[-0.0235450866166...|    0|[0.89264783117100...|[0.70943628959021...|       0.0|\n",
      "|      0|[-0.0103183430407...|    0|[1.55764104719276...|[0.82601459797812...|       0.0|\n",
      "|      0|[0.00116406613960...|    0|[1.57382766749030...|[0.82832858810647...|       0.0|\n",
      "+-------+--------------------+-----+--------------------+--------------------+----------+\n",
      "only showing top 10 rows\n",
      "\n"
     ]
    }
   ],
   "source": [
    "from pyspark.ml.evaluation import RegressionEvaluator\n",
    "from pyspark.ml.classification import LogisticRegression\n",
    "from pyspark.ml.tuning import ParamGridBuilder, TrainValidationSplit\n",
    "\n",
    "train, test = df_labeled.randomSplit([0.8, 0.2], seed=12345)\n",
    "\n",
    "lr = LogisticRegression(featuresCol=\"wordVector\", labelCol=\"label\" , maxIter=10, regParam=0.1, elasticNetParam=0.8)\n",
    "lrModel = lr.fit(train)\n",
    "predictions = lrModel.transform(test)\n",
    "predictions.show(10)"
   ]
  },
  {
   "cell_type": "code",
   "execution_count": 30,
   "metadata": {
    "application/vnd.databricks.v1+cell": {
     "inputWidgets": {},
     "nuid": "05f4cadd-4350-4a52-8aa0-0507627095c7",
     "showTitle": false,
     "title": ""
    },
    "executionInfo": {
     "elapsed": 34,
     "status": "aborted",
     "timestamp": 1651450216315,
     "user": {
      "displayName": "Chuwei Zhong",
      "userId": "11374017084540436764"
     },
     "user_tz": 240
    },
    "id": "BT6hLo2BEveS"
   },
   "outputs": [
    {
     "name": "stdout",
     "output_type": "stream",
     "text": [
      "+--------------------+--------------------+\n",
      "|                 FPR|                 TPR|\n",
      "+--------------------+--------------------+\n",
      "|                 0.0|                 0.0|\n",
      "|0.011111111111111112|                 0.0|\n",
      "|0.022222222222222223|                 0.0|\n",
      "|0.022222222222222223|  0.0196078431372549|\n",
      "|0.022222222222222223|  0.0392156862745098|\n",
      "|0.022222222222222223|0.058823529411764705|\n",
      "|0.022222222222222223|  0.0784313725490196|\n",
      "|0.022222222222222223| 0.09803921568627451|\n",
      "| 0.03333333333333333| 0.09803921568627451|\n",
      "| 0.03333333333333333| 0.11764705882352941|\n",
      "| 0.03333333333333333| 0.13725490196078433|\n",
      "| 0.03333333333333333|  0.1568627450980392|\n",
      "| 0.03333333333333333| 0.17647058823529413|\n",
      "|0.044444444444444446| 0.17647058823529413|\n",
      "|0.044444444444444446| 0.19607843137254902|\n",
      "|0.044444444444444446| 0.21568627450980393|\n",
      "|0.044444444444444446| 0.23529411764705882|\n",
      "| 0.05555555555555555| 0.23529411764705882|\n",
      "| 0.05555555555555555|  0.2549019607843137|\n",
      "| 0.05555555555555555| 0.27450980392156865|\n",
      "+--------------------+--------------------+\n",
      "only showing top 20 rows\n",
      "\n"
     ]
    }
   ],
   "source": [
    "# Extract the summary from the returned LogisticRegressionModel instance trained\n",
    "# in the earlier example\n",
    "trainingSummary = lrModel.summary\n",
    "trainingSummary.roc.show()"
   ]
  },
  {
   "cell_type": "code",
   "execution_count": 31,
   "metadata": {
    "application/vnd.databricks.v1+cell": {
     "inputWidgets": {},
     "nuid": "90060927-7b71-4464-a7df-82684216990b",
     "showTitle": false,
     "title": ""
    },
    "executionInfo": {
     "elapsed": 35,
     "status": "aborted",
     "timestamp": 1651450216316,
     "user": {
      "displayName": "Chuwei Zhong",
      "userId": "11374017084540436764"
     },
     "user_tz": 240
    },
    "id": "ojV-0ObmEveS"
   },
   "outputs": [
    {
     "name": "stdout",
     "output_type": "stream",
     "text": [
      "areaUnderROC: 0.8503267973856211\n"
     ]
    }
   ],
   "source": [
    "print(\"areaUnderROC: \" + str(trainingSummary.areaUnderROC))"
   ]
  },
  {
   "cell_type": "code",
   "execution_count": 32,
   "metadata": {
    "application/vnd.databricks.v1+cell": {
     "inputWidgets": {},
     "nuid": "e500ecb0-2805-4eba-af25-74bdba587032",
     "showTitle": false,
     "title": ""
    },
    "executionInfo": {
     "elapsed": 35,
     "status": "aborted",
     "timestamp": 1651450216316,
     "user": {
      "displayName": "Chuwei Zhong",
      "userId": "11374017084540436764"
     },
     "user_tz": 240
    },
    "id": "Nn1IK99rEveT"
   },
   "outputs": [
    {
     "name": "stdout",
     "output_type": "stream",
     "text": [
      "Prediction result summary for Logistic Regression Model: \n",
      "True Positives: 3\n",
      "False Positives: 3\n",
      "True Negatives: 23\n",
      "False Negatives: 4\n",
      "Test Accuracy: 0.7878787878787878\n",
      "Test Precision: 0.5\n",
      "Test Recall: 0.42857142857142855\n",
      "Test AUC of ROC: 0.8406593406593406\n"
     ]
    }
   ],
   "source": [
    "from pyspark.ml.evaluation import BinaryClassificationEvaluator\n",
    "\n",
    "\n",
    "def get_evaluation_result(predictions):\n",
    "  evaluator = BinaryClassificationEvaluator(\n",
    "      labelCol=\"label\", rawPredictionCol=\"rawPrediction\", metricName=\"areaUnderROC\")\n",
    "  AUC = evaluator.evaluate(predictions)\n",
    "\n",
    "  TP = predictions[(predictions[\"label\"] == 1) & (predictions[\"prediction\"] == 1.0)].count()\n",
    "  FP = predictions[(predictions[\"label\"] == 0) & (predictions[\"prediction\"] == 1.0)].count()\n",
    "  TN = predictions[(predictions[\"label\"] == 0) & (predictions[\"prediction\"] == 0.0)].count()\n",
    "  FN = predictions[(predictions[\"label\"] == 1) & (predictions[\"prediction\"] == 0.0)].count()\n",
    "\n",
    "  accuracy = (TP + TN)*1.0 / (TP + FP + TN + FN)\n",
    "  precision = TP*1.0 / (TP + FP)\n",
    "  recall = TP*1.0 / (TP + FN)\n",
    "\n",
    "\n",
    "  print (\"True Positives:\", TP)\n",
    "  print (\"False Positives:\", FP)\n",
    "  print (\"True Negatives:\", TN)\n",
    "  print (\"False Negatives:\", FN)\n",
    "  print (\"Test Accuracy:\", accuracy)\n",
    "  print (\"Test Precision:\", precision)\n",
    "  print (\"Test Recall:\", recall)\n",
    "  print (\"Test AUC of ROC:\", AUC)\n",
    "\n",
    "print(\"Prediction result summary for Logistic Regression Model: \")\n",
    "get_evaluation_result(predictions)"
   ]
  },
  {
   "cell_type": "code",
   "execution_count": 33,
   "metadata": {
    "application/vnd.databricks.v1+cell": {
     "inputWidgets": {},
     "nuid": "55843664-4e37-4f66-ae84-e8da5ff84e71",
     "showTitle": false,
     "title": ""
    },
    "executionInfo": {
     "elapsed": 36,
     "status": "aborted",
     "timestamp": 1651450216317,
     "user": {
      "displayName": "Chuwei Zhong",
      "userId": "11374017084540436764"
     },
     "user_tz": 240
    },
    "id": "01BxEMiwEveU"
   },
   "outputs": [],
   "source": [
    "from pyspark.ml.evaluation import RegressionEvaluator\n",
    "from pyspark.ml.classification import LogisticRegression\n",
    "from pyspark.ml.evaluation import BinaryClassificationEvaluator\n",
    "from pyspark.ml.tuning import CrossValidator, ParamGridBuilder, TrainValidationSplit\n",
    "\n",
    "lr1 = LogisticRegression(maxIter=10, featuresCol='wordVector', labelCol='label')\n",
    "\n",
    "paramGrid = ParamGridBuilder() \\\n",
    "    .addGrid(lr1.regParam, [0.01,0.1]) \\\n",
    "    .build()\n",
    "\n",
    "evaluator=BinaryClassificationEvaluator()\n",
    "crossval = CrossValidator(estimator = lr1,\n",
    "                          estimatorParamMaps=paramGrid,\n",
    "                          evaluator=evaluator,\n",
    "                          numFolds=5)\n",
    "\n",
    "\n",
    "cvModel = crossval.fit(train)\n",
    "best_model = cvModel.bestModel\n",
    "trainingSummary = best_model.summary"
   ]
  },
  {
   "cell_type": "code",
   "execution_count": 34,
   "metadata": {
    "application/vnd.databricks.v1+cell": {
     "inputWidgets": {},
     "nuid": "17d1fe5a-8d68-4798-a2cd-bcc9e52c7cc2",
     "showTitle": false,
     "title": ""
    },
    "executionInfo": {
     "elapsed": 35,
     "status": "aborted",
     "timestamp": 1651450216317,
     "user": {
      "displayName": "Chuwei Zhong",
      "userId": "11374017084540436764"
     },
     "user_tz": 240
    },
    "id": "MwOS1DQOEveU"
   },
   "outputs": [],
   "source": [
    "path = ''\n",
    "best_model.write().overwrite().save(path + 'lr_best_model')"
   ]
  },
  {
   "cell_type": "code",
   "execution_count": 35,
   "metadata": {
    "application/vnd.databricks.v1+cell": {
     "inputWidgets": {},
     "nuid": "57481939-4641-4b2c-bc4f-adaefc4a04a5",
     "showTitle": false,
     "title": ""
    },
    "executionInfo": {
     "elapsed": 36,
     "status": "aborted",
     "timestamp": 1651450216318,
     "user": {
      "displayName": "Chuwei Zhong",
      "userId": "11374017084540436764"
     },
     "user_tz": 240
    },
    "id": "bHnxwq26EveV"
   },
   "outputs": [
    {
     "name": "stdout",
     "output_type": "stream",
     "text": [
      "Training set areaUnderROC: 0.8943355119825709\n",
      "Testing set areaUnderROC 0.8296703296703296\n",
      "Training set accuracy: 0.8156028368794326\n",
      "Testing set accuracy 0.7878787878787878\n"
     ]
    }
   ],
   "source": [
    "prediction_train = best_model.transform(train)\n",
    "prediction_test = best_model.transform(test)\n",
    "accuracy_train = prediction_train.filter(prediction_train.label == prediction_train.prediction).count()/float(train.count())\n",
    "accuracy_test = prediction_test.filter(prediction_test.label == prediction_test.prediction).count()/float(test.count())\n",
    "\n",
    "print('Training set areaUnderROC: ' + str(evaluator.evaluate(prediction_train)))\n",
    "print('Testing set areaUnderROC ' + str(evaluator.evaluate(prediction_test)))\n",
    "print('Training set accuracy: ' + str(accuracy_train))\n",
    "print('Testing set accuracy ' + str(accuracy_test))"
   ]
  },
  {
   "cell_type": "markdown",
   "metadata": {
    "application/vnd.databricks.v1+cell": {
     "inputWidgets": {},
     "nuid": "3ed4b92c-8020-4280-b3f1-3d43002f9eb4",
     "showTitle": false,
     "title": ""
    },
    "id": "h9tJaUwHEveV"
   },
   "source": [
    "### Random Forest Model"
   ]
  },
  {
   "cell_type": "code",
   "execution_count": 36,
   "metadata": {
    "application/vnd.databricks.v1+cell": {
     "inputWidgets": {},
     "nuid": "ffbf5746-3c5e-4de5-b2ea-6b27a5874221",
     "showTitle": false,
     "title": ""
    },
    "executionInfo": {
     "elapsed": 37,
     "status": "aborted",
     "timestamp": 1651450216319,
     "user": {
      "displayName": "Chuwei Zhong",
      "userId": "11374017084540436764"
     },
     "user_tz": 240
    },
    "id": "3QwyNqgtEveV"
   },
   "outputs": [
    {
     "name": "stdout",
     "output_type": "stream",
     "text": [
      "+-------+--------------------+-----+--------------------+--------------------+----------+\n",
      "|dog_cat|          wordVector|label|       rawPrediction|         probability|prediction|\n",
      "+-------+--------------------+-----+--------------------+--------------------+----------+\n",
      "|      1|[0.06762789714742...|    1|[3.11363636363636...|[0.20757575757575...|       1.0|\n",
      "|      1|[0.09527552167751...|    1|[1.32864357864357...|[0.08857623857623...|       1.0|\n",
      "|      1|[0.09557888098061...|    1|[7.06030636030636...|[0.47068709068709...|       1.0|\n",
      "|      1|[0.09989692441498...|    1|[3.19317349317349...|[0.21287823287823...|       1.0|\n",
      "|      1|[0.10875580646097...|    1|[7.22738095238095...|[0.48182539682539...|       1.0|\n",
      "|      1|[0.11886261184425...|    1|[8.41900149031296...|[0.56126676602086...|       0.0|\n",
      "|      1|[0.12836580940056...|    1|[5.84444444444444...|[0.38962962962962...|       1.0|\n",
      "|      0|[-0.0235450866166...|    0|[13.8585577673692...|[0.92390385115794...|       0.0|\n",
      "|      0|[-0.0103183430407...|    0|[14.7008196721311...|[0.98005464480874...|       0.0|\n",
      "|      0|[0.00116406613960...|    0|[14.7008196721311...|[0.98005464480874...|       0.0|\n",
      "+-------+--------------------+-----+--------------------+--------------------+----------+\n",
      "only showing top 10 rows\n",
      "\n"
     ]
    }
   ],
   "source": [
    "from pyspark.ml import Pipeline\n",
    "from pyspark.ml.classification import RandomForestClassifier\n",
    "\n",
    "# Train a RandomForest model.\n",
    "rf = RandomForestClassifier(labelCol=\"label\", featuresCol=\"wordVector\", numTrees=15)\n",
    "\n",
    "# Train model.  This also runs the indexers.\n",
    "model = rf.fit(train)\n",
    "\n",
    "# Make predictions.\n",
    "predictions = model.transform(test)\n",
    "\n",
    "# Select example rows to display.\n",
    "predictions.show(10)"
   ]
  },
  {
   "cell_type": "code",
   "execution_count": 37,
   "metadata": {
    "application/vnd.databricks.v1+cell": {
     "inputWidgets": {},
     "nuid": "7262b3e8-6d8e-4e6e-a986-f660451bea1a",
     "showTitle": false,
     "title": ""
    },
    "executionInfo": {
     "elapsed": 37,
     "status": "aborted",
     "timestamp": 1651450216319,
     "user": {
      "displayName": "Chuwei Zhong",
      "userId": "11374017084540436764"
     },
     "user_tz": 240
    },
    "id": "Qq3nwXIyEveW"
   },
   "outputs": [
    {
     "name": "stdout",
     "output_type": "stream",
     "text": [
      "Prediction result summary for Random Forest Model:  \n",
      "True Positives: 6\n",
      "False Positives: 5\n",
      "True Negatives: 21\n",
      "False Negatives: 1\n",
      "Test Accuracy: 0.8181818181818182\n",
      "Test Precision: 0.5454545454545454\n",
      "Test Recall: 0.8571428571428571\n",
      "Test AUC of ROC: 0.9065934065934067\n"
     ]
    }
   ],
   "source": [
    "print(\"Prediction result summary for Random Forest Model:  \")\n",
    "get_evaluation_result(predictions)"
   ]
  },
  {
   "cell_type": "code",
   "execution_count": 38,
   "metadata": {
    "executionInfo": {
     "elapsed": 37,
     "status": "aborted",
     "timestamp": 1651450216320,
     "user": {
      "displayName": "Chuwei Zhong",
      "userId": "11374017084540436764"
     },
     "user_tz": 240
    },
    "id": "qsR5mEncNmvm"
   },
   "outputs": [
    {
     "name": "stdout",
     "output_type": "stream",
     "text": [
      "Training set areaUnderROC: 0.9930283224400872\n",
      "Testing set areaUnderROC 0.8296703296703296\n",
      "Training set accuracy: 0.9645390070921985\n",
      "Testing set accuracy 0.7575757575757576\n"
     ]
    }
   ],
   "source": [
    "rf1 = RandomForestClassifier(labelCol=\"label\", featuresCol=\"wordVector\")\n",
    "\n",
    "paramGrid = ParamGridBuilder() \\\n",
    "    .addGrid(rf1.numTrees, [3,9]) \\\n",
    "    .build()\n",
    "\n",
    "evaluator=BinaryClassificationEvaluator()\n",
    "crossval = CrossValidator(estimator = rf1,\n",
    "                          estimatorParamMaps=paramGrid,\n",
    "                          evaluator=evaluator,\n",
    "                          numFolds=5)\n",
    "\n",
    "\n",
    "cvModel = crossval.fit(train)\n",
    "best_model = cvModel.bestModel\n",
    "# trainingSummary = best_model.summary\n",
    "\n",
    "prediction_train = best_model.transform(train)\n",
    "prediction_test = best_model.transform(test)\n",
    "accuracy_train = prediction_train.filter(prediction_train.label == prediction_train.prediction).count()/float(train.count())\n",
    "accuracy_test = prediction_test.filter(prediction_test.label == prediction_test.prediction).count()/float(test.count())\n",
    "\n",
    "print('Training set areaUnderROC: ' + str(evaluator.evaluate(prediction_train)))\n",
    "print('Testing set areaUnderROC ' + str(evaluator.evaluate(prediction_test)))\n",
    "print('Training set accuracy: ' + str(accuracy_train))\n",
    "print('Testing set accuracy ' + str(accuracy_test))"
   ]
  },
  {
   "cell_type": "code",
   "execution_count": 39,
   "metadata": {
    "executionInfo": {
     "elapsed": 37,
     "status": "aborted",
     "timestamp": 1651450216320,
     "user": {
      "displayName": "Chuwei Zhong",
      "userId": "11374017084540436764"
     },
     "user_tz": 240
    },
    "id": "Ji-WOczCQXqj"
   },
   "outputs": [],
   "source": [
    "path = ''\n",
    "best_model.write().overwrite().save(path + 'rf_best_model')"
   ]
  },
  {
   "cell_type": "markdown",
   "metadata": {
    "application/vnd.databricks.v1+cell": {
     "inputWidgets": {},
     "nuid": "fdf2e547-c933-4e52-953b-d1b65ca885de",
     "showTitle": false,
     "title": ""
    },
    "id": "y44EKVEfEveW"
   },
   "source": [
    "### Gradient Boosting"
   ]
  },
  {
   "cell_type": "code",
   "execution_count": 40,
   "metadata": {
    "application/vnd.databricks.v1+cell": {
     "inputWidgets": {},
     "nuid": "deb155e2-b4bf-4872-9191-0573309cc997",
     "showTitle": false,
     "title": ""
    },
    "executionInfo": {
     "elapsed": 37,
     "status": "aborted",
     "timestamp": 1651450216321,
     "user": {
      "displayName": "Chuwei Zhong",
      "userId": "11374017084540436764"
     },
     "user_tz": 240
    },
    "id": "ZM1kSW1sEveX"
   },
   "outputs": [
    {
     "name": "stdout",
     "output_type": "stream",
     "text": [
      "+-------+--------------------+-----+--------------------+--------------------+----------+\n",
      "|dog_cat|          wordVector|label|       rawPrediction|         probability|prediction|\n",
      "+-------+--------------------+-----+--------------------+--------------------+----------+\n",
      "|      1|[0.06762789714742...|    1|[-1.2037316760288...|[0.08260534620976...|       1.0|\n",
      "|      1|[0.09527552167751...|    1|[-1.1718889113970...|[0.08756161660710...|       1.0|\n",
      "|      1|[0.09557888098061...|    1|[-0.9812577084341...|[0.12319507950166...|       1.0|\n",
      "|      1|[0.09989692441498...|    1|[-1.2633481977204...|[0.07400772617806...|       1.0|\n",
      "|      1|[0.10875580646097...|    1|[-1.0119989561947...|[0.11670623057990...|       1.0|\n",
      "|      1|[0.11886261184425...|    1|[1.12675388390637...|[0.90495267876339...|       0.0|\n",
      "|      1|[0.12836580940056...|    1|[-1.2683101129774...|[0.07333050876845...|       1.0|\n",
      "|      0|[-0.0235450866166...|    0|[1.30733320917115...|[0.93179954141858...|       0.0|\n",
      "|      0|[-0.0103183430407...|    0|[1.31958693799006...|[0.93334058474091...|       0.0|\n",
      "|      0|[0.00116406613960...|    0|[1.31985995156933...|[0.93337454829539...|       0.0|\n",
      "+-------+--------------------+-----+--------------------+--------------------+----------+\n",
      "only showing top 10 rows\n",
      "\n"
     ]
    }
   ],
   "source": [
    "from pyspark.ml.classification import GBTClassifier\n",
    "\n",
    "# Train a RandomForest model.\n",
    "gbt = GBTClassifier(labelCol=\"label\", featuresCol=\"wordVector\", maxIter=10)\n",
    "\n",
    "# Train model.  This also runs the indexers.\n",
    "model = gbt.fit(train)\n",
    "\n",
    "# Make predictions.\n",
    "predictions = model.transform(test)\n",
    "\n",
    "# Select example rows to display.\n",
    "predictions.show(10)"
   ]
  },
  {
   "cell_type": "code",
   "execution_count": 41,
   "metadata": {
    "application/vnd.databricks.v1+cell": {
     "inputWidgets": {},
     "nuid": "ba837181-4771-4720-84bc-e231f3505801",
     "showTitle": false,
     "title": ""
    },
    "executionInfo": {
     "elapsed": 38,
     "status": "aborted",
     "timestamp": 1651450216322,
     "user": {
      "displayName": "Chuwei Zhong",
      "userId": "11374017084540436764"
     },
     "user_tz": 240
    },
    "id": "oFaPvV_tEveX"
   },
   "outputs": [
    {
     "name": "stdout",
     "output_type": "stream",
     "text": [
      "Training set areaUnderROC: 1.0\n",
      "Testing set areaUnderROC 0.7087912087912089\n",
      "Training set accuracy: 1.0\n",
      "Testing set accuracy 0.6666666666666666\n"
     ]
    }
   ],
   "source": [
    "gbt1 = GBTClassifier(maxIter=10, featuresCol='wordVector', labelCol='label')\n",
    "\n",
    "paramGrid = ParamGridBuilder() \\\n",
    "    .addGrid(gbt1.maxDepth, [10,15]) \\\n",
    "    .build()\n",
    "\n",
    "evaluator=BinaryClassificationEvaluator()\n",
    "crossval = CrossValidator(estimator = gbt1,\n",
    "                          estimatorParamMaps=paramGrid,\n",
    "                          evaluator=evaluator,\n",
    "                          numFolds=5)\n",
    "\n",
    "\n",
    "cvModel = crossval.fit(train)\n",
    "best_model = cvModel.bestModel\n",
    "# trainingSummary = best_model.summary\n",
    "\n",
    "prediction_train = best_model.transform(train)\n",
    "prediction_test = best_model.transform(test)\n",
    "accuracy_train = prediction_train.filter(prediction_train.label == prediction_train.prediction).count()/float(train.count())\n",
    "accuracy_test = prediction_test.filter(prediction_test.label == prediction_test.prediction).count()/float(test.count())\n",
    "\n",
    "print('Training set areaUnderROC: ' + str(evaluator.evaluate(prediction_train)))\n",
    "print('Testing set areaUnderROC ' + str(evaluator.evaluate(prediction_test)))\n",
    "print('Training set accuracy: ' + str(accuracy_train))\n",
    "print('Testing set accuracy ' + str(accuracy_test))"
   ]
  },
  {
   "cell_type": "code",
   "execution_count": 42,
   "metadata": {
    "executionInfo": {
     "elapsed": 38,
     "status": "aborted",
     "timestamp": 1651450216322,
     "user": {
      "displayName": "Chuwei Zhong",
      "userId": "11374017084540436764"
     },
     "user_tz": 240
    },
    "id": "Sud0kX7EI8VS"
   },
   "outputs": [],
   "source": [
    "path = ''\n",
    "best_model.write().overwrite().save(path + 'gbt_best_model')"
   ]
  },
  {
   "cell_type": "markdown",
   "metadata": {
    "application/vnd.databricks.v1+cell": {
     "inputWidgets": {},
     "nuid": "3f18af17-07cc-41e2-b33b-56c656230c6b",
     "showTitle": false,
     "title": ""
    },
    "id": "uJuZCzyqEveX"
   },
   "source": [
    "## 2. Classify All The Users\n",
    "We can now apply the cat/dog classifiers to all the other users in the dataset."
   ]
  },
  {
   "cell_type": "code",
   "execution_count": 43,
   "metadata": {
    "application/vnd.databricks.v1+cell": {
     "inputWidgets": {},
     "nuid": "4dac1bd8-7912-48a9-8999-7caa4ac65c54",
     "showTitle": false,
     "title": ""
    },
    "executionInfo": {
     "elapsed": 38,
     "status": "aborted",
     "timestamp": 1651450216323,
     "user": {
      "displayName": "Chuwei Zhong",
      "userId": "11374017084540436764"
     },
     "user_tz": 240
    },
    "id": "zbB3BRPzEveY"
   },
   "outputs": [
    {
     "name": "stdout",
     "output_type": "stream",
     "text": [
      "There are 1445 users whose attribute is unclear.\n",
      "+-------+--------------------+---------+--------------------+-------+------+--------------------+--------------------+--------------------+--------------------+-----+--------------------+--------------------+----------+\n",
      "|    _c0|        creator_name|   userid|             comment|dog_cat|no_pet|                text|     vector_no_stopw|      vector_stemmed|          wordVector|label|       rawPrediction|         probability|prediction|\n",
      "+-------+--------------------+---------+--------------------+-------+------+--------------------+--------------------+--------------------+--------------------+-----+--------------------+--------------------+----------+\n",
      "|5172407|  Taylor Nicole Dean|1017798.0|i find it funny c...|      0|     0|[i, find, it, fun...|[find, funny, cau...|[find, funni, cau...|[0.06860379758290...|    0|[1.32590267922033...|[0.93412217565278...|       0.0|\n",
      "|2008117|       Brian Barczyk|1642854.0|Brian is my favou...|      0|     0|[brian, is, my, f...|[brian, favourite...|[brian, favourit,...|[0.10420661052579...|    0|[1.32590267922033...|[0.93412217565278...|       0.0|\n",
      "|4433171|Hope For Paws - O...|2201609.0|I would Of Adopte...|      0|     0|[i, would, of, ad...|[adopted, house, ...|[adopt, hous, was...|[0.11482456600956...|    0|[1.16847289249867...|[0.91189100031932...|       0.0|\n",
      "|4808451|    Brave Wilderness|1621071.0|This man must hav...|      0|     0|[this, man, must,...|[man, must, gods,...|[man, must, god, ...|[0.04529594839550...|    0|[1.32590267922033...|[0.93412217565278...|       0.0|\n",
      "|5256862|             ViralBe|2047835.0|     I have a Kangal|      0|     0|[i, have, a, kangal]|            [kangal]|            [kangal]|[0.01213229261338...|    0|[1.32590267922033...|[0.93412217565278...|       0.0|\n",
      "|2782260|  Taylor Nicole Dean|2031336.0|I’ve been watchin...|      0|     0|[i, ve, been, wat...|[ve, watching, vi...|[watch, video, si...|[0.09556505730789...|    0|[1.32590267922033...|[0.93412217565278...|       0.0|\n",
      "|5044541|    Brave Wilderness| 391077.0|What shoes do you...|      0|     0|[what, shoes, do,...|[shoes, video, ni...|[shoe, video, nic...|[0.05777366033622...|    0|[1.32590267922033...|[0.93412217565278...|       0.0|\n",
      "|5724745|          101rabbits|1554937.0|My bunny is a fre...|      0|     0|[my, bunny, is, a...|[bunny, free, ran...|[bunni, free, ran...|[0.07761680625844...|    0|[-1.3259026792203...|[0.06587782434721...|       1.0|\n",
      "|3585111|  Taylor Nicole Dean|1856226.0|Oh my what a scar...|      0|     0|[oh, my, what, a,...|[oh, scary, snake...|      [scari, snake]|[0.09014147147536...|    0|[-1.2382639630117...|[0.07752012885204...|       1.0|\n",
      "|1412298|Deadly Tarantula ...| 359527.0|I actually had an...|      0|     0|[i, actually, had...|[actually, asian,...|[actual, asian, b...|[0.09470843429995...|    0|[1.32590267922033...|[0.93412217565278...|       0.0|\n",
      "+-------+--------------------+---------+--------------------+-------+------+--------------------+--------------------+--------------------+--------------------+-----+--------------------+--------------------+----------+\n",
      "only showing top 10 rows\n",
      "\n"
     ]
    }
   ],
   "source": [
    "df_unknow = df_model.filter((F.col('dog_cat') == False) & (F.col('no_pet') == False)) \n",
    "df_unknow = df_unknow.withColumn('label',df_unknow.dog_cat.cast('integer'))\n",
    "print(\"There are {} users whose attribute is unclear.\".format(df_unknow.count()))\n",
    "pred_all = best_model.transform(df_unknow)\n",
    "pred_all.show(10)"
   ]
  },
  {
   "cell_type": "code",
   "execution_count": 44,
   "metadata": {
    "application/vnd.databricks.v1+cell": {
     "inputWidgets": {},
     "nuid": "a58f2c1f-0a3e-4f40-a8a2-a8cee3e8ff7b",
     "showTitle": false,
     "title": ""
    },
    "executionInfo": {
     "elapsed": 38,
     "status": "aborted",
     "timestamp": 1651450216323,
     "user": {
      "displayName": "Chuwei Zhong",
      "userId": "11374017084540436764"
     },
     "user_tz": 240
    },
    "id": "2KLPIdd0EveZ"
   },
   "outputs": [
    {
     "name": "stdout",
     "output_type": "stream",
     "text": [
      "Fraction of the users who are cat/dog owners (ML estimate):  0.042\n"
     ]
    }
   ],
   "source": [
    "#number of total user\n",
    "total_user = df_model.select('userid').distinct().count()\n",
    "#number of labeled owner\n",
    "owner_labeled = df_pets.select('userid').distinct().count() \n",
    "#number of owner predicted\n",
    "owner_pred = pred_all.filter(F.col('prediction') == 1.0).count()\n",
    "\n",
    "fraction = (owner_labeled+owner_pred)/total_user\n",
    "print('Fraction of the users who are cat/dog owners (ML estimate): ', round(fraction,3))"
   ]
  },
  {
   "cell_type": "code",
   "execution_count": 45,
   "metadata": {
    "application/vnd.databricks.v1+cell": {
     "inputWidgets": {},
     "nuid": "6e59c575-daea-42c1-9c64-a69d27de5efc",
     "showTitle": false,
     "title": ""
    },
    "executionInfo": {
     "elapsed": 38,
     "status": "aborted",
     "timestamp": 1651450216324,
     "user": {
      "displayName": "Chuwei Zhong",
      "userId": "11374017084540436764"
     },
     "user_tz": 240
    },
    "id": "Oc3MBehIEveZ"
   },
   "outputs": [],
   "source": [
    "from pyspark.ml.feature import StopWordsRemover\n",
    "\n",
    "df_all_owner = df_pets.select('text').union(pred_all.filter(F.col('prediction') == 1.0).select('text'))\n",
    "\n",
    "stopwords_custom = ['im', 'get', 'got', 'one', 'hes', 'shes', 'dog', 'dogs', 'cats', 'cat', 'kitty', 'much', 'really', 'love','like','dont','know','want','thin',\\\n",
    "                    'see','also','never','go','ive','didnt','u']\n",
    "\n",
    "remover1 = StopWordsRemover(inputCol=\"raw\", outputCol=\"filtered\")\n",
    "core = remover1.getStopWords()\n",
    "core = core + stopwords_custom\n",
    "remover = StopWordsRemover(inputCol=\"text\", outputCol=\"filtered\",stopWords=core)\n",
    "df_all_owner = remover.transform(df_all_owner)\n",
    "\n",
    "wc = df_all_owner.select('filtered').rdd.flatMap(lambda a: a.filtered).countByValue()"
   ]
  },
  {
   "cell_type": "code",
   "execution_count": 46,
   "metadata": {
    "application/vnd.databricks.v1+cell": {
     "inputWidgets": {},
     "nuid": "8347ca12-e285-4ba8-9679-8dd857d99b86",
     "showTitle": false,
     "title": ""
    },
    "executionInfo": {
     "elapsed": 39,
     "status": "aborted",
     "timestamp": 1651450216325,
     "user": {
      "displayName": "Chuwei Zhong",
      "userId": "11374017084540436764"
     },
     "user_tz": 240
    },
    "id": "RF62suv2Evea"
   },
   "outputs": [
    {
     "data": {
      "text/plain": [
       "[('people', 53),\n",
       " ('even', 31),\n",
       " ('video', 28),\n",
       " ('think', 27),\n",
       " ('cant', 27),\n",
       " ('eat', 24),\n",
       " ('lol', 23),\n",
       " ('animals', 23),\n",
       " ('little', 20),\n",
       " ('cute', 20),\n",
       " ('back', 20),\n",
       " ('time', 20),\n",
       " ('look', 20),\n",
       " ('need', 19),\n",
       " ('videos', 18),\n",
       " ('say', 18),\n",
       " ('well', 18),\n",
       " ('thing', 18),\n",
       " ('oh', 18),\n",
       " ('two', 17),\n",
       " ('help', 17),\n",
       " ('make', 17),\n",
       " ('hope', 17),\n",
       " ('many', 17),\n",
       " ('food', 16),\n",
       " ('care', 16),\n",
       " ('take', 16),\n",
       " ('big', 16),\n",
       " ('may', 16),\n",
       " ('name', 16),\n",
       " ('use', 16),\n",
       " ('ever', 16),\n",
       " ('house', 15),\n",
       " ('2', 15),\n",
       " ('nice', 15),\n",
       " ('going', 15),\n",
       " ('great', 15),\n",
       " ('horse', 15),\n",
       " ('bad', 14),\n",
       " ('give', 14),\n",
       " ('someone', 14),\n",
       " ('keep', 14),\n",
       " ('best', 14),\n",
       " ('first', 14),\n",
       " ('snake', 14),\n",
       " ('ill', 14),\n",
       " ('anything', 13),\n",
       " ('life', 13),\n",
       " ('always', 13),\n",
       " ('find', 13),\n",
       " ('already', 13),\n",
       " ('put', 13),\n",
       " ('used', 13),\n",
       " ('better', 13),\n",
       " ('thats', 13),\n",
       " ('poor', 13),\n",
       " ('water', 13),\n",
       " ('favorite', 13),\n",
       " ('3', 12),\n",
       " ('baby', 12),\n",
       " ('let', 12),\n",
       " ('something', 12),\n",
       " ('still', 12),\n",
       " ('us', 12),\n",
       " ('black', 12),\n",
       " ('pet', 12),\n",
       " ('animal', 11),\n",
       " ('come', 11),\n",
       " ('thank', 11),\n",
       " ('good', 11),\n",
       " ('man', 11),\n",
       " ('call', 11),\n",
       " ('looks', 10),\n",
       " ('less', 10),\n",
       " ('right', 10),\n",
       " ('believe', 10),\n",
       " ('doesnt', 10),\n",
       " ('maybe', 10),\n",
       " ('around', 10),\n",
       " ('enough', 10),\n",
       " ('every', 10),\n",
       " ('day', 10),\n",
       " ('home', 10),\n",
       " ('stay', 10),\n",
       " ('1', 10),\n",
       " ('please', 10),\n",
       " ('away', 10),\n",
       " ('since', 10),\n",
       " ('fish', 10),\n",
       " ('probably', 10),\n",
       " ('almost', 10),\n",
       " ('eyes', 10),\n",
       " ('hey', 9),\n",
       " ('puppy', 9),\n",
       " ('living', 9),\n",
       " ('lot', 9),\n",
       " ('thanks', 9),\n",
       " ('way', 9),\n",
       " ('beautiful', 9),\n",
       " ('things', 9),\n",
       " ('though', 9),\n",
       " ('omg', 9),\n",
       " ('old', 9),\n",
       " ('breed', 9),\n",
       " ('wouldnt', 9),\n",
       " ('running', 9),\n",
       " ('wolves', 9),\n",
       " ('might', 9),\n",
       " ('d', 9),\n",
       " ('money', 9),\n",
       " ('work', 9),\n",
       " ('point', 9),\n",
       " ('kill', 9),\n",
       " ('found', 9),\n",
       " ('seen', 9),\n",
       " ('play', 8),\n",
       " ('5', 8),\n",
       " ('free', 8),\n",
       " ('world', 8),\n",
       " ('actually', 8),\n",
       " ('guys', 8),\n",
       " ('ok', 8),\n",
       " ('went', 8),\n",
       " ('friend', 8),\n",
       " ('gets', 8),\n",
       " ('years', 8),\n",
       " ('family', 8),\n",
       " ('shelby', 8),\n",
       " ('saw', 8),\n",
       " ('coyote', 8),\n",
       " ('stop', 8),\n",
       " ('must', 8),\n",
       " ('guy', 8),\n",
       " ('named', 8),\n",
       " ('shit', 8),\n",
       " ('feed', 8),\n",
       " ('feel', 7),\n",
       " ('train', 7),\n",
       " ('watch', 7),\n",
       " ('mean', 7),\n",
       " ('times', 7),\n",
       " ('outside', 7),\n",
       " ('died', 7),\n",
       " ('trying', 7),\n",
       " ('understand', 7),\n",
       " ('god', 7),\n",
       " ('getting', 7),\n",
       " ('girl', 7),\n",
       " ('boy', 7),\n",
       " ('amazing', 7),\n",
       " ('next', 7),\n",
       " ('year', 7),\n",
       " ('rabbit', 7),\n",
       " ('said', 7),\n",
       " ('small', 7),\n",
       " ('sorry', 7),\n",
       " ('eating', 7),\n",
       " ('nature', 7),\n",
       " ('fuck', 7),\n",
       " ('mother', 7),\n",
       " ('cause', 7),\n",
       " ('wild', 7),\n",
       " ('show', 7),\n",
       " ('cheese', 7),\n",
       " ('pets', 7),\n",
       " ('live', 7),\n",
       " ('called', 7),\n",
       " ('makes', 6),\n",
       " ('feels', 6),\n",
       " ('mom', 6),\n",
       " ('glad', 6),\n",
       " ('tell', 6),\n",
       " ('attack', 6),\n",
       " ('loved', 6),\n",
       " ('knowing', 6),\n",
       " ('humans', 6),\n",
       " ('theyre', 6),\n",
       " ('sometimes', 6),\n",
       " ('killed', 6),\n",
       " ('hate', 6),\n",
       " ('owner', 6),\n",
       " ('part', 6),\n",
       " ('bite', 6),\n",
       " ('10', 6),\n",
       " ('yeah', 6),\n",
       " ('wolf', 6),\n",
       " ('grow', 6),\n",
       " ('three', 6),\n",
       " ('start', 6),\n",
       " ('treatment', 6),\n",
       " ('coming', 6),\n",
       " ('trained', 6),\n",
       " ('room', 6),\n",
       " ('tank', 6),\n",
       " ('plus', 6),\n",
       " ('spiders', 6),\n",
       " ('youre', 6),\n",
       " ('mules', 6),\n",
       " ('thinking', 6),\n",
       " ('friends', 6),\n",
       " ('without', 6),\n",
       " ('long', 6),\n",
       " ('fact', 6),\n",
       " ('heart', 6),\n",
       " ('wait', 6),\n",
       " ('head', 6),\n",
       " ('hi', 6),\n",
       " ('sounds', 6),\n",
       " ('snakes', 6),\n",
       " ('wanna', 5),\n",
       " ('different', 5),\n",
       " ('cut', 5),\n",
       " ('leave', 5),\n",
       " ('especially', 5),\n",
       " ('buy', 5),\n",
       " ('vet', 5),\n",
       " ('gone', 5),\n",
       " ('bed', 5),\n",
       " ('runs', 5),\n",
       " ('catch', 5),\n",
       " ('another', 5),\n",
       " ('done', 5),\n",
       " ('today', 5),\n",
       " ('wish', 5),\n",
       " ('later', 5),\n",
       " ('wont', 5),\n",
       " ('ur', 5),\n",
       " ('bless', 5),\n",
       " ('walk', 5),\n",
       " ('mine', 5),\n",
       " ('kitten', 5),\n",
       " ('true', 5),\n",
       " ('ask', 5),\n",
       " ('played', 5),\n",
       " ('second', 5),\n",
       " ('tree', 5),\n",
       " ('able', 5),\n",
       " ('bit', 5),\n",
       " ('chiller', 5),\n",
       " ('set', 5),\n",
       " ('havent', 5),\n",
       " ('6', 5),\n",
       " ('touch', 5),\n",
       " ('seeing', 5),\n",
       " ('id', 5),\n",
       " ('full', 5),\n",
       " ('channel', 5),\n",
       " ('word', 5),\n",
       " ('speak', 5),\n",
       " ('funny', 5),\n",
       " ('teeth', 5),\n",
       " ('looking', 5),\n",
       " ('question', 5),\n",
       " ('training', 5),\n",
       " ('theres', 5),\n",
       " ('wow', 5),\n",
       " ('fine', 5),\n",
       " ('needed', 5),\n",
       " ('husky', 5),\n",
       " ('stress', 5),\n",
       " ('hand', 5),\n",
       " ('comes', 5),\n",
       " ('top', 5),\n",
       " ('person', 5),\n",
       " ('reminds', 4),\n",
       " ('babies', 4),\n",
       " ('abuse', 4),\n",
       " ('kid', 4),\n",
       " ('m', 4),\n",
       " ('kind', 4),\n",
       " ('cried', 4),\n",
       " ('adorable', 4),\n",
       " ('yes', 4),\n",
       " ('cuddle', 4),\n",
       " ('made', 4),\n",
       " ('saved', 4),\n",
       " ('using', 4),\n",
       " ('weeks', 4),\n",
       " ('ago', 4),\n",
       " ('owners', 4),\n",
       " ('lives', 4),\n",
       " ('sleep', 4),\n",
       " ('knew', 4),\n",
       " ('except', 4),\n",
       " ('ones', 4),\n",
       " ('truly', 4),\n",
       " ('piece', 4),\n",
       " ('gohan', 4),\n",
       " ('months', 4),\n",
       " ('happy', 4),\n",
       " ('hamster', 4),\n",
       " ('lost', 4),\n",
       " ('couldnt', 4),\n",
       " ('handle', 4),\n",
       " ('soon', 4),\n",
       " ('isnt', 4),\n",
       " ('face', 4),\n",
       " ('school', 4),\n",
       " ('stupid', 4),\n",
       " ('fleas', 4),\n",
       " ('hear', 4),\n",
       " ('children', 4),\n",
       " ('kittens', 4),\n",
       " ('watching', 4),\n",
       " ('sad', 4),\n",
       " ('asked', 4),\n",
       " ('south', 4),\n",
       " ('weekend', 4),\n",
       " ('wondering', 4),\n",
       " ('place', 4),\n",
       " ('4', 4),\n",
       " ('favourite', 4),\n",
       " ('frog', 4),\n",
       " ('white', 4),\n",
       " ('jump', 4),\n",
       " ('hours', 4),\n",
       " ('service', 4),\n",
       " ('fans', 4),\n",
       " ('max', 4),\n",
       " ('whole', 4),\n",
       " ('problem', 4),\n",
       " ('goes', 4),\n",
       " ('reason', 4),\n",
       " ('however', 4),\n",
       " ('nothing', 4),\n",
       " ('seriously', 4),\n",
       " ('bigger', 4),\n",
       " ('honestly', 4),\n",
       " ('hell', 4),\n",
       " ('earth', 4),\n",
       " ('faith', 4),\n",
       " ('looked', 4),\n",
       " ('spider', 4),\n",
       " ('anyone', 4),\n",
       " ('saying', 4),\n",
       " ('last', 4),\n",
       " ('human', 4),\n",
       " ('fun', 4),\n",
       " ('others', 4),\n",
       " ('places', 4),\n",
       " ('rescue', 4),\n",
       " ('daddy', 4),\n",
       " ('australia', 4),\n",
       " ('run', 4),\n",
       " ('seems', 4),\n",
       " ('safe', 4),\n",
       " ('damn', 4),\n",
       " ('huge', 4),\n",
       " ('moon', 4),\n",
       " ('horrible', 4),\n",
       " ('youtube', 4),\n",
       " ('mind', 4),\n",
       " ('emus', 4),\n",
       " ('ha', 4),\n",
       " ('male', 4),\n",
       " ('dead', 4),\n",
       " ('store', 4),\n",
       " ('smokey', 4),\n",
       " ('lots', 4),\n",
       " ('raptor', 4),\n",
       " ('large', 4),\n",
       " ('wife', 4),\n",
       " ('turtle', 4),\n",
       " ('dad', 4),\n",
       " ('real', 4),\n",
       " ('parts', 4),\n",
       " ('literally', 4),\n",
       " ('sweet', 4),\n",
       " ('owned', 4),\n",
       " ('area', 4),\n",
       " ('algae', 4),\n",
       " ('eyed', 4),\n",
       " ('new', 4),\n",
       " ('peacock', 4),\n",
       " ('scared', 4),\n",
       " ('wonderful', 4),\n",
       " ('special', 4),\n",
       " ('retarded', 4),\n",
       " ('disabled', 4),\n",
       " ('minor', 4),\n",
       " ('tears', 4),\n",
       " ('night', 3),\n",
       " ('bring', 3),\n",
       " ('toy', 3),\n",
       " ('kept', 3),\n",
       " ('okay', 3),\n",
       " ('took', 3),\n",
       " ('wouldn', 3),\n",
       " ('gave', 3),\n",
       " ('opinion', 3),\n",
       " ('needs', 3),\n",
       " ('o', 3),\n",
       " ('loves', 3),\n",
       " ('belly', 3),\n",
       " ('cruel', 3),\n",
       " ('extra', 3),\n",
       " ('ranch', 3),\n",
       " ('till', 3),\n",
       " ('sharing', 3),\n",
       " ('couple', 3),\n",
       " ('range', 3),\n",
       " ('loose', 3),\n",
       " ('inside', 3),\n",
       " ('matter', 3),\n",
       " ('hit', 3),\n",
       " ('supposed', 3),\n",
       " ('fight', 3),\n",
       " ('open', 3),\n",
       " ('far', 3),\n",
       " ('pack', 3),\n",
       " ('wrong', 3),\n",
       " ('approach', 3),\n",
       " ('happen', 3),\n",
       " ('reasons', 3),\n",
       " ('thought', 3),\n",
       " ('came', 3),\n",
       " ('change', 3),\n",
       " ('tried', 3),\n",
       " ('clean', 3),\n",
       " ('days', 3),\n",
       " ('die', 3),\n",
       " ('save', 3),\n",
       " ('leaving', 3),\n",
       " ('jumps', 3),\n",
       " ('behind', 3),\n",
       " ('rest', 3),\n",
       " ('90', 3),\n",
       " ('lady', 3),\n",
       " ('plz', 3),\n",
       " ('cry', 3),\n",
       " ('alot', 3),\n",
       " ('collar', 3),\n",
       " ('rather', 3),\n",
       " ('tight', 3),\n",
       " ('watched', 3),\n",
       " ('tonight', 3),\n",
       " ('puts', 3),\n",
       " ('plan', 3),\n",
       " ('mentioned', 3),\n",
       " ('asking', 3),\n",
       " ('event', 3),\n",
       " ('meet', 3),\n",
       " ('changes', 3),\n",
       " ('talking', 3),\n",
       " ('lab', 3),\n",
       " ('dude', 3),\n",
       " ('likes', 3),\n",
       " ('taylor', 3),\n",
       " ('kinda', 3),\n",
       " ('public', 3),\n",
       " ('paper', 3),\n",
       " ('gonna', 3),\n",
       " ('comment', 3),\n",
       " ('share', 3),\n",
       " ('reef', 3),\n",
       " ('tho', 3),\n",
       " ('ended', 3),\n",
       " ('0', 3),\n",
       " ('window', 3),\n",
       " ('along', 3),\n",
       " ('temp', 3),\n",
       " ('fast', 3),\n",
       " ('dt', 3),\n",
       " ('stuff', 3),\n",
       " ('personally', 3),\n",
       " ('certain', 3),\n",
       " ('usually', 3),\n",
       " ('btw', 3),\n",
       " ('dumb', 3),\n",
       " ('toe', 3),\n",
       " ('yall', 3),\n",
       " ('https', 3),\n",
       " ('fucking', 3),\n",
       " ('finds', 3),\n",
       " ('job', 3),\n",
       " ('sexy', 3),\n",
       " ('attempt', 3),\n",
       " ('beach', 3),\n",
       " ('walked', 3),\n",
       " ('war', 3),\n",
       " ('taking', 3),\n",
       " ('disgusting', 3),\n",
       " ('everywhere', 3),\n",
       " ('learn', 3),\n",
       " ('killing', 3),\n",
       " ('mini', 3),\n",
       " ('enjoy', 3),\n",
       " ('etc', 3),\n",
       " ('says', 3),\n",
       " ('horses', 3),\n",
       " ('physically', 3),\n",
       " ('wonder', 3),\n",
       " ('size', 3),\n",
       " ('bully', 3),\n",
       " ('fur', 3),\n",
       " ('judge', 3),\n",
       " ('fly', 3),\n",
       " ('timmy', 3),\n",
       " ('ex', 3),\n",
       " ('sell', 3),\n",
       " ('plastic', 3),\n",
       " ('mostly', 3),\n",
       " ('carnivores', 3),\n",
       " ('lizards', 3),\n",
       " ('ears', 3),\n",
       " ('population', 3),\n",
       " ('n', 3),\n",
       " ('tail', 3),\n",
       " ('fruit', 3),\n",
       " ('hunt', 3),\n",
       " ('bass', 3),\n",
       " ('episode', 3),\n",
       " ('trust', 3),\n",
       " ('attention', 3),\n",
       " ('else', 3),\n",
       " ('guess', 3),\n",
       " ('ready', 3),\n",
       " ('joseph', 3),\n",
       " ('listen', 3),\n",
       " ('anyway', 3),\n",
       " ('across', 3),\n",
       " ('street', 3),\n",
       " ('smells', 3),\n",
       " ('daughter', 3),\n",
       " ('caught', 3),\n",
       " ('river', 3),\n",
       " ('yet', 3),\n",
       " ('100', 3),\n",
       " ('feet', 3),\n",
       " ('etsy', 3),\n",
       " ('green', 3),\n",
       " ('box', 3),\n",
       " ('rats', 3),\n",
       " ('health', 3),\n",
       " ('american', 3),\n",
       " ('dream', 3),\n",
       " ('together', 3),\n",
       " ('bills', 3),\n",
       " ('20', 3),\n",
       " ('series', 3),\n",
       " ('experience', 3),\n",
       " ('started', 3),\n",
       " ('husband', 3),\n",
       " ('helpful', 3),\n",
       " ('ride', 3),\n",
       " ('birthday', 3),\n",
       " ('asks', 3),\n",
       " ('tape', 3),\n",
       " ('worms', 3),\n",
       " ('wants', 3),\n",
       " ('thinks', 3),\n",
       " ('pit', 3),\n",
       " ('destroy', 3),\n",
       " ('folks', 3),\n",
       " ('lunging', 3),\n",
       " ('agree', 3),\n",
       " ('canada', 3),\n",
       " ('aunt', 3),\n",
       " ('bet', 3),\n",
       " ('kangal', 3),\n",
       " ('tastes', 3),\n",
       " ('hurts', 3),\n",
       " ('hold', 3),\n",
       " ('stickers', 3),\n",
       " ('line', 3),\n",
       " ('heard', 3),\n",
       " ('giant', 3),\n",
       " ('kids', 3),\n",
       " ('mentally', 3),\n",
       " ('syndrome', 3),\n",
       " ('sd', 3),\n",
       " ('com', 3),\n",
       " ('completely', 2),\n",
       " ('pups', 2),\n",
       " ('protective', 2),\n",
       " ('minutes', 2),\n",
       " ('sure', 2),\n",
       " ('nails', 2),\n",
       " ('scratch', 2),\n",
       " ('arms', 2),\n",
       " ('type', 2),\n",
       " ('alone', 2),\n",
       " ('bullshit', 2),\n",
       " ('country', 2),\n",
       " ('steve', 2),\n",
       " ('wet', 2),\n",
       " ('told', 2),\n",
       " ('puppies', 2),\n",
       " ('dis', 2),\n",
       " ('foot', 2),\n",
       " ('meant', 2),\n",
       " ('read', 2),\n",
       " ('death', 2),\n",
       " ('anymore', 2),\n",
       " ('knows', 2),\n",
       " ('met', 2),\n",
       " ('wanted', 2),\n",
       " ('p', 2),\n",
       " ('snuggled', 2),\n",
       " ('dinner', 2),\n",
       " ('pros', 2),\n",
       " ('cons', 2),\n",
       " ('safety', 2),\n",
       " ('keeping', 2),\n",
       " ('cage', 2),\n",
       " ('yard', 2),\n",
       " ('walking', 2),\n",
       " ('course', 2),\n",
       " ('car', 2),\n",
       " ('disease', 2),\n",
       " ('door', 2),\n",
       " ('stacy', 2),\n",
       " ('creature', 2),\n",
       " ('tend', 2),\n",
       " ('everything', 2),\n",
       " ('positive', 2),\n",
       " ('hammy', 2),\n",
       " ('info', 2),\n",
       " ('playing', 2),\n",
       " ('hospital', 2),\n",
       " ('worry', 2),\n",
       " ('truck', 2),\n",
       " ('messing', 2),\n",
       " ('cancer', 2),\n",
       " ('heads', 2),\n",
       " ('growling', 2),\n",
       " ('sees', 2),\n",
       " ('wasnt', 2),\n",
       " ('behavior', 2),\n",
       " ('fear', 2),\n",
       " ('bitten', 2),\n",
       " ('given', 2),\n",
       " ('leash', 2),\n",
       " ('weve', 2),\n",
       " ('helped', 2),\n",
       " ('lovers', 2),\n",
       " ('hard', 2),\n",
       " ('karelian', 2),\n",
       " ('bear', 2),\n",
       " ('bikes', 2),\n",
       " ('closely', 2),\n",
       " ('ps', 2),\n",
       " ('force', 2),\n",
       " ('indoor', 2),\n",
       " ('lose', 2),\n",
       " ('hunting', 2),\n",
       " ('skills', 2),\n",
       " ('ass', 2),\n",
       " ('emotional', 2),\n",
       " ('news', 2),\n",
       " ('suggestions', 2),\n",
       " ('form', 2),\n",
       " ('suggestion', 2),\n",
       " ('suggested', 2),\n",
       " ('huskies', 2),\n",
       " ('attending', 2),\n",
       " ('expo', 2),\n",
       " ('planning', 2),\n",
       " ('girls', 2),\n",
       " ('voices', 2),\n",
       " ('stomach', 2),\n",
       " ('crying', 2),\n",
       " ('furry', 2),\n",
       " ('grabbed', 2),\n",
       " ('grayson', 2),\n",
       " ('bro', 2),\n",
       " ('useful', 2),\n",
       " ('gecko', 2),\n",
       " ('fishes', 2),\n",
       " ('evil', 2),\n",
       " ('freaks', 2),\n",
       " ('rips', 2),\n",
       " ('smart', 2),\n",
       " ('scary', 2),\n",
       " ('remember', 2),\n",
       " ('dislike', 2),\n",
       " ('rat', 2),\n",
       " ('excited', 2),\n",
       " ('mounted', 2),\n",
       " ('subscribed', 2),\n",
       " ('kidding', 2),\n",
       " ('gallon', 2),\n",
       " ('keeper', 2),\n",
       " ('haha', 2),\n",
       " ('areas', 2),\n",
       " ('brs', 2),\n",
       " ('pump', 2),\n",
       " ('noise', 2),\n",
       " ('degree', 2),\n",
       " ('chillers', 2),\n",
       " ('w', 2),\n",
       " ('e', 2),\n",
       " ('heater', 2),\n",
       " ('takes', 2),\n",
       " ('cool', 2),\n",
       " ('honest', 2),\n",
       " ('types', 2),\n",
       " ('shape', 2),\n",
       " ('shut', 2),\n",
       " ('dreams', 2),\n",
       " ('anyways', 2),\n",
       " ('easy', 2),\n",
       " ('sting', 2),\n",
       " ('fridge', 2),\n",
       " ('monitor', 2),\n",
       " ('german', 2),\n",
       " ('ear', 2),\n",
       " ('won', 2),\n",
       " ('beat', 2),\n",
       " ('women', 2),\n",
       " ('idiots', 2),\n",
       " ('trainer', 2),\n",
       " ('means', 2),\n",
       " ('complete', 2),\n",
       " ('banana', 2),\n",
       " ('webs', 2),\n",
       " ('humanity', 2),\n",
       " ('wildlife', 2),\n",
       " ('kicked', 2),\n",
       " ('surgery', 2),\n",
       " ('rocks', 2),\n",
       " ('sister', 2),\n",
       " ('realized', 2),\n",
       " ('legs', 2),\n",
       " ('screamed', 2),\n",
       " ('terrified', 2),\n",
       " ('working', 2),\n",
       " ('cruelty', 2),\n",
       " ('adopted', 2),\n",
       " ('gaia', 2),\n",
       " ('happened', 2),\n",
       " ('entire', 2),\n",
       " ('rabbits', 2),\n",
       " ('instead', 2),\n",
       " ('inch', 2),\n",
       " ('works', 2),\n",
       " ('saving', 2),\n",
       " ('hurting', 2),\n",
       " ('side', 2),\n",
       " ('shows', 2),\n",
       " ('drama', 2),\n",
       " ('unless', 2),\n",
       " ('describes', 2),\n",
       " ('donkey', 2),\n",
       " ('rescues', 2),\n",
       " ('abused', 2),\n",
       " ('description', 2),\n",
       " ('image', 2),\n",
       " ('self', 2),\n",
       " ('bug', 2),\n",
       " ('jack', 2),\n",
       " ('rottweiler', 2),\n",
       " ('grown', 2),\n",
       " ('mr', 2),\n",
       " ('butt', 2),\n",
       " ('although', 2),\n",
       " ('pain', 2),\n",
       " ('blue', 2),\n",
       " ('idk', 2),\n",
       " ('brave', 2),\n",
       " ('younger', 2),\n",
       " ('sisters', 2),\n",
       " ('gotten', 2),\n",
       " ('online', 2),\n",
       " ('writing', 2),\n",
       " ('difference', 2),\n",
       " ('prey', 2),\n",
       " ('creatures', 2),\n",
       " ('system', 2),\n",
       " ('tigers', 2),\n",
       " ('yeras', 2),\n",
       " ('12', 2),\n",
       " ('ragdoll', 2),\n",
       " ('durian', 2),\n",
       " ('favorites', 2),\n",
       " ('power', 2),\n",
       " ('compels', 2),\n",
       " ('past', 2),\n",
       " ('pretty', 2),\n",
       " ('dinosaur', 2),\n",
       " ('emu', 2),\n",
       " ('rip', 2),\n",
       " ('freaking', 2),\n",
       " ('eye', 2),\n",
       " ('stevie', 2),\n",
       " ('hilarious', 2),\n",
       " ('moist', 2),\n",
       " ('werent', 2),\n",
       " ('crew', 2),\n",
       " ('reality', 2),\n",
       " ('owen', 2),\n",
       " ('hero', 2),\n",
       " ('ya', 2),\n",
       " ('shown', 2),\n",
       " ('idea', 2),\n",
       " ('phone', 2),\n",
       " ('eastern', 2),\n",
       " ('grab', 2),\n",
       " ('dash', 2),\n",
       " ('cam', 2),\n",
       " ('police', 2),\n",
       " ('court', 2),\n",
       " ('havoc', 2),\n",
       " ('send', 2),\n",
       " ('milk', 2),\n",
       " ('heaven', 2),\n",
       " ('sanctuary', 2),\n",
       " ('peter', 2),\n",
       " ('shot', 2),\n",
       " ('mainly', 2),\n",
       " ('near', 2),\n",
       " ('mill', 2),\n",
       " ('close', 2),\n",
       " ('grandmas', 2),\n",
       " ('credit', 2),\n",
       " ('birds', 2),\n",
       " ('awesome', 2),\n",
       " ('spinosaurus', 2),\n",
       " ('utah', 2),\n",
       " ('based', 2),\n",
       " ('reptiles', 2),\n",
       " ('hip', 2),\n",
       " ('structures', 2),\n",
       " ('weight', 2),\n",
       " ('short', 2),\n",
       " ('talk', 2),\n",
       " ('forgot', 2),\n",
       " ('woke', 2),\n",
       " ('wore', 2),\n",
       " ('hermit', 2),\n",
       " ('crab', 2),\n",
       " ('search', 2),\n",
       " ('x', 2),\n",
       " ('lenon', 2),\n",
       " ('bred', 2),\n",
       " ('species', 2),\n",
       " ('barn', 2),\n",
       " ('afraid', 2),\n",
       " ('towards', 2),\n",
       " ('hog', 2),\n",
       " ('definitely', 2),\n",
       " ('similar', 2),\n",
       " ('hamsters', 2),\n",
       " ('poverty', 2),\n",
       " ('body', 2),\n",
       " ('low', 2),\n",
       " ('pay', 2),\n",
       " ('carry', 2),\n",
       " ('due', 2),\n",
       " ('debt', 2),\n",
       " ('doctor', 2),\n",
       " ('1st', 2),\n",
       " ('game', 2),\n",
       " ('coyotes', 2),\n",
       " ('bees', 2),\n",
       " ('extremely', 2),\n",
       " ('web', 2),\n",
       " ('sadly', 2),\n",
       " ('awww', 2),\n",
       " ('adults', 2),\n",
       " ('tiny', 2),\n",
       " ('breeds', 2),\n",
       " ('usa', 2),\n",
       " ('flat', 2),\n",
       " ('hitting', 2),\n",
       " ('giving', 2),\n",
       " ('site', 2),\n",
       " ('toys', 2),\n",
       " ('weird', 2),\n",
       " ('provide', 2),\n",
       " ('teach', 2),\n",
       " ('born', 2),\n",
       " ('depending', 2),\n",
       " ('organs', 2),\n",
       " ('grossed', 2),\n",
       " ('feeding', 2),\n",
       " ('kibble', 2),\n",
       " ('meat', 2),\n",
       " ('eaters', 2),\n",
       " ('brand', 2),\n",
       " ('catching', 2),\n",
       " ('bird', 2),\n",
       " ('30', 2),\n",
       " ('processed', 2),\n",
       " ('companies', 2),\n",
       " ('pictures', 2),\n",
       " ('story', 2),\n",
       " ('end', 2),\n",
       " ('parasites', 2),\n",
       " ('harm', 2),\n",
       " ('manage', 2),\n",
       " ('picked', 2),\n",
       " ('brought', 2),\n",
       " ('argentine', 2),\n",
       " ('hulk', 2),\n",
       " ('encounter', 2),\n",
       " ('seconds', 2),\n",
       " ('vid', 2),\n",
       " ('featured', 2),\n",
       " ('xdd', 2),\n",
       " ('try', 2),\n",
       " ('ground', 2),\n",
       " ('feeling', 2),\n",
       " ('gun', 2),\n",
       " ('shoot', 2),\n",
       " ('pick', 2),\n",
       " ('speaking', 2),\n",
       " ('advice', 2),\n",
       " ('gorgeous', 2),\n",
       " ('calling', 2),\n",
       " ('expert', 2),\n",
       " ('local', 2),\n",
       " ('malfunctioning', 2),\n",
       " ('outta', 2),\n",
       " ('signals', 2),\n",
       " ('lord', 2),\n",
       " ('enter', 2),\n",
       " ('scene', 2),\n",
       " ('rushing', 2),\n",
       " ('within', 2),\n",
       " ('spaces', 2),\n",
       " ('shop', 2),\n",
       " ('female', 2),\n",
       " ('cubs', 2),\n",
       " ('vanilla', 2),\n",
       " ('ignorant', 2),\n",
       " ('northern', 2),\n",
       " ('everyone', 2),\n",
       " ('check', 2),\n",
       " ('enzo', 2),\n",
       " ('cadish', 2),\n",
       " ('lets', 2),\n",
       " ('tone', 2),\n",
       " ('organization', 2),\n",
       " ('hide', 2),\n",
       " ('aggressive', 2),\n",
       " ('scratchers', 2),\n",
       " ('season', 2),\n",
       " ('fixed', 2),\n",
       " ('gag', 2),\n",
       " ('least', 2),\n",
       " ('kick', 2),\n",
       " ('starter', 2),\n",
       " ('dropped', 2),\n",
       " ('add', 2),\n",
       " ('robot', 2),\n",
       " ('megaman', 2),\n",
       " ('bigfoot', 2),\n",
       " ('stole', 2),\n",
       " ('whats', 2),\n",
       " ('florida', 2),\n",
       " ('closer', 2),\n",
       " ('stray', 2),\n",
       " ('condition', 2),\n",
       " ('treats', 2),\n",
       " ('brother', 2),\n",
       " ('voice', 2),\n",
       " ('cuffs', 2),\n",
       " ('pistia', 2),\n",
       " ('smaller', 2),\n",
       " ('oceans', 2),\n",
       " ('gentle', 2),\n",
       " ('geckos', 2),\n",
       " ('balls', 2),\n",
       " ('dictionary', 2),\n",
       " ('copy', 2),\n",
       " ('known', 2),\n",
       " ('exactly', 2),\n",
       " ('jean', 2),\n",
       " ('san', 2),\n",
       " ('trekkie', 2),\n",
       " ('japanese', 2),\n",
       " ('hornets', 2),\n",
       " ('jelly', 2),\n",
       " ('99', 2),\n",
       " ('surprised', 2),\n",
       " ('zak', 2),\n",
       " ('distractions', 2),\n",
       " ('signal', 2),\n",
       " ('auto', 2),\n",
       " ('www', 2),\n",
       " ('hoochiesshop', 2),\n",
       " ('feelings', 2),\n",
       " ('rappers', 2),\n",
       " ('continent', 2),\n",
       " ('54', 2),\n",
       " ('club', 2),\n",
       " ('beaten', 2),\n",
       " ('tortoise', 2),\n",
       " ('sparks', 2),\n",
       " ('urge', 2),\n",
       " ('africa', 2),\n",
       " ('facebook', 2),\n",
       " ('caltium', 2),\n",
       " ('contact', 2),\n",
       " ('sylvester', 1),\n",
       " ('loke', 1),\n",
       " ('acts', 1),\n",
       " ('nicer', 1),\n",
       " ('yowling', 1),\n",
       " ...]"
      ]
     },
     "execution_count": 46,
     "metadata": {},
     "output_type": "execute_result"
    }
   ],
   "source": [
    "wcSorted = sorted(wc.items(), key=lambda kv: kv[1],reverse = True)\n",
    "wcSorted"
   ]
  },
  {
   "cell_type": "code",
   "execution_count": 47,
   "metadata": {
    "application/vnd.databricks.v1+cell": {
     "inputWidgets": {},
     "nuid": "e739a528-69fd-4249-aa7e-31cb6a386d84",
     "showTitle": false,
     "title": ""
    },
    "executionInfo": {
     "elapsed": 38,
     "status": "aborted",
     "timestamp": 1651450216325,
     "user": {
      "displayName": "Chuwei Zhong",
      "userId": "11374017084540436764"
     },
     "user_tz": 240
    },
    "id": "7SEBOdHqEveb"
   },
   "outputs": [
    {
     "data": {
      "text/plain": [
       "(-0.5, 399.5, 199.5, -0.5)"
      ]
     },
     "execution_count": 47,
     "metadata": {},
     "output_type": "execute_result"
    },
    {
     "data": {
      "image/png": "[encoded data removed]",
      "text/plain": [
       "<Figure size 864x576 with 1 Axes>"
      ]
     },
     "metadata": {
      "needs_background": "light"
     },
     "output_type": "display_data"
    }
   ],
   "source": [
    "from wordcloud import WordCloud\n",
    "import matplotlib.pyplot as plt\n",
    "\n",
    "text = \" \".join([(k + \" \")*v for k,v in wc.items()])\n",
    "\n",
    "wcloud = WordCloud(background_color=\"white\", max_words=20000, collocations = False,\n",
    "               contour_width=3, contour_color='steelblue',max_font_size=40)\n",
    "\n",
    "# Generate a word cloud image\n",
    "wcloud.generate(text)\n",
    "\n",
    "# Display the generated image:\n",
    "# the matplotlib way:\n",
    "fig,ax0=plt.subplots(nrows=1,figsize=(12,8))\n",
    "ax0.imshow(wcloud,interpolation='bilinear')\n",
    "\n",
    "ax0.axis(\"off\")"
   ]
  },
  {
   "cell_type": "code",
   "execution_count": 48,
   "metadata": {
    "application/vnd.databricks.v1+cell": {
     "inputWidgets": {},
     "nuid": "5e5527d0-ef44-43e4-b81a-e422e093bcb6",
     "showTitle": false,
     "title": ""
    },
    "executionInfo": {
     "elapsed": 40,
     "status": "aborted",
     "timestamp": 1651450216327,
     "user": {
      "displayName": "Chuwei Zhong",
      "userId": "11374017084540436764"
     },
     "user_tz": 240
    },
    "id": "HlRgerxtEveb"
   },
   "outputs": [],
   "source": [
    "#Get all creators whenever the users label is True(cat/dog owner)\n",
    "df_create = df_pets.select('creator_name').union(pred_all.filter(F.col('prediction') == 1.0).select('creator_name'))\n",
    "\n",
    "df_create.createOrReplaceTempView(\"create_table\")\n",
    "\n",
    "#get count\n",
    "create_count = spark.sql(\"select distinct creator_name, count(*) as Number\\\n",
    "                          from create_table \\\n",
    "                          group by creator_name \\\n",
    "                          order by Number DESC\")\n"
   ]
  },
  {
   "cell_type": "code",
   "execution_count": 49,
   "metadata": {
    "application/vnd.databricks.v1+cell": {
     "inputWidgets": {},
     "nuid": "c4022577-756e-4fe3-8e6e-18f0263c83d7",
     "showTitle": false,
     "title": ""
    },
    "executionInfo": {
     "elapsed": 39,
     "status": "aborted",
     "timestamp": 1651450216327,
     "user": {
      "displayName": "Chuwei Zhong",
      "userId": "11374017084540436764"
     },
     "user_tz": 240
    },
    "id": "ys2HW6xqEvec"
   },
   "outputs": [
    {
     "name": "stdout",
     "output_type": "stream",
     "text": [
      "+--------------------+------+\n",
      "|        creator_name|Number|\n",
      "+--------------------+------+\n",
      "|    Brave Wilderness|    63|\n",
      "|            The Dodo|    24|\n",
      "|  Taylor Nicole Dean|    21|\n",
      "|       Brian Barczyk|    19|\n",
      "|     Gohan The Husky|    13|\n",
      "|    Cole & Marmalade|    12|\n",
      "|  Think Like A Horse|    12|\n",
      "|Zak Georges Dog T...|    11|\n",
      "|Hope For Paws - O...|    10|\n",
      "|        Robin Seplut|     8|\n",
      "|           Vet Ranch|     8|\n",
      "|Gone to the Snow ...|     7|\n",
      "|   Talking Kitty Cat|     7|\n",
      "|             Steff J|     7|\n",
      "|        Paws Channel|     6|\n",
      "|          stacyvlogs|     6|\n",
      "|            ViralHog|     6|\n",
      "|     Viktor Larkhill|     5|\n",
      "|    Lennon The Bunny|     4|\n",
      "|           MonkeyBoo|     4|\n",
      "+--------------------+------+\n",
      "only showing top 20 rows\n",
      "\n"
     ]
    },
    {
     "name": "stderr",
     "output_type": "stream",
     "text": [
      "----------------------------------------\n",
      "Exception occurred during processing of request from ('127.0.0.1', 53806)\n",
      "Traceback (most recent call last):\n",
      "  File \"/opt/conda/envs/data3/lib/python3.9/socketserver.py\", line 316, in _handle_request_noblock\n",
      "    self.process_request(request, client_address)\n",
      "  File \"/opt/conda/envs/data3/lib/python3.9/socketserver.py\", line 347, in process_request\n",
      "    self.finish_request(request, client_address)\n",
      "  File \"/opt/conda/envs/data3/lib/python3.9/socketserver.py\", line 360, in finish_request\n",
      "    self.RequestHandlerClass(request, client_address, self)\n",
      "  File \"/opt/conda/envs/data3/lib/python3.9/socketserver.py\", line 747, in __init__\n",
      "    self.handle()\n",
      "  File \"/usr/local/spark/python/pyspark/accumulators.py\", line 262, in handle\n",
      "    poll(accum_updates)\n",
      "  File \"/usr/local/spark/python/pyspark/accumulators.py\", line 235, in poll\n",
      "    if func():\n",
      "  File \"/usr/local/spark/python/pyspark/accumulators.py\", line 239, in accum_updates\n",
      "    num_updates = read_int(self.rfile)\n",
      "  File \"/usr/local/spark/python/pyspark/serializers.py\", line 564, in read_int\n",
      "    raise EOFError\n",
      "EOFError\n",
      "----------------------------------------\n"
     ]
    }
   ],
   "source": [
    "create_count.show()"
   ]
  }
 ],
 "metadata": {
  "application/vnd.databricks.v1+notebook": {
   "dashboards": [],
   "language": "python",
   "notebookMetadata": {
    "pythonIndentUnit": 4
   },
   "notebookName": "youtube_cat_dog",
   "notebookOrigID": 1514343096863006,
   "widgets": {}
  },
  "colab": {
   "collapsed_sections": [],
   "name": "youtube_cat_dog_v3.ipynb",
   "provenance": []
  },
  "kernelspec": {
   "display_name": "Python 3 (ipykernel)",
   "language": "python",
   "name": "python3"
  },
  "language_info": {
   "codemirror_mode": {
    "name": "ipython",
    "version": 3
   },
   "file_extension": ".py",
   "mimetype": "text/x-python",
   "name": "python",
   "nbconvert_exporter": "python",
   "pygments_lexer": "ipython3",
   "version": "3.9.7"
  }
 },
 "nbformat": 4,
 "nbformat_minor": 1
}
